{
  "cells": [
    {
      "cell_type": "markdown",
      "metadata": {
        "id": "view-in-github",
        "colab_type": "text"
      },
      "source": [
        "<a href=\"https://colab.research.google.com/github/L1KASA/Computational-Linguistics-NLP/blob/main/lab2/lab_2_6409_%D0%A2%D0%B0%D1%85%D0%BC%D0%B0%D0%B7%D0%BE%D0%B2%D0%B0%D0%90%D0%A8.ipynb\" target=\"_parent\"><img src=\"https://colab.research.google.com/assets/colab-badge.svg\" alt=\"Open In Colab\"/></a>"
      ]
    },
    {
      "cell_type": "markdown",
      "metadata": {
        "id": "pW24dY5sVFVk"
      },
      "source": [
        "# Группа 6409, Тахмазова Анжелика"
      ]
    },
    {
      "cell_type": "markdown",
      "metadata": {
        "id": "dFt5kQ48_sCs"
      },
      "source": [
        "# Лабораторная работа №2\n",
        "\n",
        "**Требования:**\n",
        "* Python >= 3.X\n",
        "\n",
        "В качестве входных данных к лабораторной работе взят широко известный набор данных IMDB, содержащий 50K обзоров фильмов ([imdb-dataset-of-50k-movie-reviews](https://disk.yandex.ru/i/DDb0zuyUmts5QA)). Откликами являются значения двух классов positive и negative."
      ]
    },
    {
      "cell_type": "code",
      "execution_count": null,
      "metadata": {
        "colab": {
          "base_uri": "https://localhost:8080/"
        },
        "id": "_qhn-6jW_sCv",
        "outputId": "bde7ded7-fec1-433f-e15b-b91060b12fdd"
      },
      "outputs": [
        {
          "output_type": "stream",
          "name": "stderr",
          "text": [
            "[nltk_data] Downloading package stopwords to /root/nltk_data...\n",
            "[nltk_data]   Unzipping corpora/stopwords.zip.\n",
            "[nltk_data] Downloading package wordnet to /root/nltk_data...\n"
          ]
        },
        {
          "output_type": "stream",
          "name": "stdout",
          "text": [
            "Mounted at /content/drive/\n"
          ]
        }
      ],
      "source": [
        "import pandas as pd\n",
        "import nltk\n",
        "import numpy as np\n",
        "from nltk.corpus import stopwords\n",
        "from nltk.tokenize import word_tokenize\n",
        "from sklearn.feature_extraction.text import CountVectorizer\n",
        "from sklearn.model_selection import train_test_split\n",
        "import string\n",
        "import re\n",
        "from nltk.stem import WordNetLemmatizer\n",
        "from sklearn.feature_extraction.text import TfidfVectorizer\n",
        "from sklearn.model_selection import GridSearchCV\n",
        "from sklearn.svm import SVC\n",
        "from sklearn.model_selection import cross_val_score\n",
        "import matplotlib.pyplot as plt\n",
        "import inflect\n",
        "from google.colab import drive\n",
        "from sklearn.model_selection import KFold\n",
        "from sklearn.metrics import accuracy_score\n",
        "from sklearn.ensemble import RandomForestClassifier\n",
        "\n",
        "nltk.download('stopwords')\n",
        "nltk.download('gutenberg', quiet=True)\n",
        "nltk.download('punkt', quiet=True)\n",
        "nltk.download('wordnet')\n",
        "\n",
        "drive.mount('/content/drive/')"
      ]
    },
    {
      "cell_type": "code",
      "source": [
        "imdb_data = pd.read_csv('/content/drive/MyDrive/Dataset.csv')\n",
        "imdb_data.head()"
      ],
      "metadata": {
        "colab": {
          "base_uri": "https://localhost:8080/",
          "height": 206
        },
        "id": "Pf8hxdMLXnwg",
        "outputId": "f27a729c-ecc2-44a8-b818-2bd7f6cca161"
      },
      "execution_count": null,
      "outputs": [
        {
          "output_type": "execute_result",
          "data": {
            "text/plain": [
              "                                              review sentiment\n",
              "0  One of the other reviewers has mentioned that ...  positive\n",
              "1  A wonderful little production. <br /><br />The...  positive\n",
              "2  I thought this was a wonderful way to spend ti...  positive\n",
              "3  Basically there's a family where a little boy ...  negative\n",
              "4  Petter Mattei's \"Love in the Time of Money\" is...  positive"
            ],
            "text/html": [
              "\n",
              "  <div id=\"df-06a2776e-d3bd-4abf-8358-420a0567e9fa\" class=\"colab-df-container\">\n",
              "    <div>\n",
              "<style scoped>\n",
              "    .dataframe tbody tr th:only-of-type {\n",
              "        vertical-align: middle;\n",
              "    }\n",
              "\n",
              "    .dataframe tbody tr th {\n",
              "        vertical-align: top;\n",
              "    }\n",
              "\n",
              "    .dataframe thead th {\n",
              "        text-align: right;\n",
              "    }\n",
              "</style>\n",
              "<table border=\"1\" class=\"dataframe\">\n",
              "  <thead>\n",
              "    <tr style=\"text-align: right;\">\n",
              "      <th></th>\n",
              "      <th>review</th>\n",
              "      <th>sentiment</th>\n",
              "    </tr>\n",
              "  </thead>\n",
              "  <tbody>\n",
              "    <tr>\n",
              "      <th>0</th>\n",
              "      <td>One of the other reviewers has mentioned that ...</td>\n",
              "      <td>positive</td>\n",
              "    </tr>\n",
              "    <tr>\n",
              "      <th>1</th>\n",
              "      <td>A wonderful little production. &lt;br /&gt;&lt;br /&gt;The...</td>\n",
              "      <td>positive</td>\n",
              "    </tr>\n",
              "    <tr>\n",
              "      <th>2</th>\n",
              "      <td>I thought this was a wonderful way to spend ti...</td>\n",
              "      <td>positive</td>\n",
              "    </tr>\n",
              "    <tr>\n",
              "      <th>3</th>\n",
              "      <td>Basically there's a family where a little boy ...</td>\n",
              "      <td>negative</td>\n",
              "    </tr>\n",
              "    <tr>\n",
              "      <th>4</th>\n",
              "      <td>Petter Mattei's \"Love in the Time of Money\" is...</td>\n",
              "      <td>positive</td>\n",
              "    </tr>\n",
              "  </tbody>\n",
              "</table>\n",
              "</div>\n",
              "    <div class=\"colab-df-buttons\">\n",
              "\n",
              "  <div class=\"colab-df-container\">\n",
              "    <button class=\"colab-df-convert\" onclick=\"convertToInteractive('df-06a2776e-d3bd-4abf-8358-420a0567e9fa')\"\n",
              "            title=\"Convert this dataframe to an interactive table.\"\n",
              "            style=\"display:none;\">\n",
              "\n",
              "  <svg xmlns=\"http://www.w3.org/2000/svg\" height=\"24px\" viewBox=\"0 -960 960 960\">\n",
              "    <path d=\"M120-120v-720h720v720H120Zm60-500h600v-160H180v160Zm220 220h160v-160H400v160Zm0 220h160v-160H400v160ZM180-400h160v-160H180v160Zm440 0h160v-160H620v160ZM180-180h160v-160H180v160Zm440 0h160v-160H620v160Z\"/>\n",
              "  </svg>\n",
              "    </button>\n",
              "\n",
              "  <style>\n",
              "    .colab-df-container {\n",
              "      display:flex;\n",
              "      gap: 12px;\n",
              "    }\n",
              "\n",
              "    .colab-df-convert {\n",
              "      background-color: #E8F0FE;\n",
              "      border: none;\n",
              "      border-radius: 50%;\n",
              "      cursor: pointer;\n",
              "      display: none;\n",
              "      fill: #1967D2;\n",
              "      height: 32px;\n",
              "      padding: 0 0 0 0;\n",
              "      width: 32px;\n",
              "    }\n",
              "\n",
              "    .colab-df-convert:hover {\n",
              "      background-color: #E2EBFA;\n",
              "      box-shadow: 0px 1px 2px rgba(60, 64, 67, 0.3), 0px 1px 3px 1px rgba(60, 64, 67, 0.15);\n",
              "      fill: #174EA6;\n",
              "    }\n",
              "\n",
              "    .colab-df-buttons div {\n",
              "      margin-bottom: 4px;\n",
              "    }\n",
              "\n",
              "    [theme=dark] .colab-df-convert {\n",
              "      background-color: #3B4455;\n",
              "      fill: #D2E3FC;\n",
              "    }\n",
              "\n",
              "    [theme=dark] .colab-df-convert:hover {\n",
              "      background-color: #434B5C;\n",
              "      box-shadow: 0px 1px 3px 1px rgba(0, 0, 0, 0.15);\n",
              "      filter: drop-shadow(0px 1px 2px rgba(0, 0, 0, 0.3));\n",
              "      fill: #FFFFFF;\n",
              "    }\n",
              "  </style>\n",
              "\n",
              "    <script>\n",
              "      const buttonEl =\n",
              "        document.querySelector('#df-06a2776e-d3bd-4abf-8358-420a0567e9fa button.colab-df-convert');\n",
              "      buttonEl.style.display =\n",
              "        google.colab.kernel.accessAllowed ? 'block' : 'none';\n",
              "\n",
              "      async function convertToInteractive(key) {\n",
              "        const element = document.querySelector('#df-06a2776e-d3bd-4abf-8358-420a0567e9fa');\n",
              "        const dataTable =\n",
              "          await google.colab.kernel.invokeFunction('convertToInteractive',\n",
              "                                                    [key], {});\n",
              "        if (!dataTable) return;\n",
              "\n",
              "        const docLinkHtml = 'Like what you see? Visit the ' +\n",
              "          '<a target=\"_blank\" href=https://colab.research.google.com/notebooks/data_table.ipynb>data table notebook</a>'\n",
              "          + ' to learn more about interactive tables.';\n",
              "        element.innerHTML = '';\n",
              "        dataTable['output_type'] = 'display_data';\n",
              "        await google.colab.output.renderOutput(dataTable, element);\n",
              "        const docLink = document.createElement('div');\n",
              "        docLink.innerHTML = docLinkHtml;\n",
              "        element.appendChild(docLink);\n",
              "      }\n",
              "    </script>\n",
              "  </div>\n",
              "\n",
              "\n",
              "<div id=\"df-240f0688-2f7c-4bd5-bffb-d28ae9c0b7e7\">\n",
              "  <button class=\"colab-df-quickchart\" onclick=\"quickchart('df-240f0688-2f7c-4bd5-bffb-d28ae9c0b7e7')\"\n",
              "            title=\"Suggest charts\"\n",
              "            style=\"display:none;\">\n",
              "\n",
              "<svg xmlns=\"http://www.w3.org/2000/svg\" height=\"24px\"viewBox=\"0 0 24 24\"\n",
              "     width=\"24px\">\n",
              "    <g>\n",
              "        <path d=\"M19 3H5c-1.1 0-2 .9-2 2v14c0 1.1.9 2 2 2h14c1.1 0 2-.9 2-2V5c0-1.1-.9-2-2-2zM9 17H7v-7h2v7zm4 0h-2V7h2v10zm4 0h-2v-4h2v4z\"/>\n",
              "    </g>\n",
              "</svg>\n",
              "  </button>\n",
              "\n",
              "<style>\n",
              "  .colab-df-quickchart {\n",
              "      --bg-color: #E8F0FE;\n",
              "      --fill-color: #1967D2;\n",
              "      --hover-bg-color: #E2EBFA;\n",
              "      --hover-fill-color: #174EA6;\n",
              "      --disabled-fill-color: #AAA;\n",
              "      --disabled-bg-color: #DDD;\n",
              "  }\n",
              "\n",
              "  [theme=dark] .colab-df-quickchart {\n",
              "      --bg-color: #3B4455;\n",
              "      --fill-color: #D2E3FC;\n",
              "      --hover-bg-color: #434B5C;\n",
              "      --hover-fill-color: #FFFFFF;\n",
              "      --disabled-bg-color: #3B4455;\n",
              "      --disabled-fill-color: #666;\n",
              "  }\n",
              "\n",
              "  .colab-df-quickchart {\n",
              "    background-color: var(--bg-color);\n",
              "    border: none;\n",
              "    border-radius: 50%;\n",
              "    cursor: pointer;\n",
              "    display: none;\n",
              "    fill: var(--fill-color);\n",
              "    height: 32px;\n",
              "    padding: 0;\n",
              "    width: 32px;\n",
              "  }\n",
              "\n",
              "  .colab-df-quickchart:hover {\n",
              "    background-color: var(--hover-bg-color);\n",
              "    box-shadow: 0 1px 2px rgba(60, 64, 67, 0.3), 0 1px 3px 1px rgba(60, 64, 67, 0.15);\n",
              "    fill: var(--button-hover-fill-color);\n",
              "  }\n",
              "\n",
              "  .colab-df-quickchart-complete:disabled,\n",
              "  .colab-df-quickchart-complete:disabled:hover {\n",
              "    background-color: var(--disabled-bg-color);\n",
              "    fill: var(--disabled-fill-color);\n",
              "    box-shadow: none;\n",
              "  }\n",
              "\n",
              "  .colab-df-spinner {\n",
              "    border: 2px solid var(--fill-color);\n",
              "    border-color: transparent;\n",
              "    border-bottom-color: var(--fill-color);\n",
              "    animation:\n",
              "      spin 1s steps(1) infinite;\n",
              "  }\n",
              "\n",
              "  @keyframes spin {\n",
              "    0% {\n",
              "      border-color: transparent;\n",
              "      border-bottom-color: var(--fill-color);\n",
              "      border-left-color: var(--fill-color);\n",
              "    }\n",
              "    20% {\n",
              "      border-color: transparent;\n",
              "      border-left-color: var(--fill-color);\n",
              "      border-top-color: var(--fill-color);\n",
              "    }\n",
              "    30% {\n",
              "      border-color: transparent;\n",
              "      border-left-color: var(--fill-color);\n",
              "      border-top-color: var(--fill-color);\n",
              "      border-right-color: var(--fill-color);\n",
              "    }\n",
              "    40% {\n",
              "      border-color: transparent;\n",
              "      border-right-color: var(--fill-color);\n",
              "      border-top-color: var(--fill-color);\n",
              "    }\n",
              "    60% {\n",
              "      border-color: transparent;\n",
              "      border-right-color: var(--fill-color);\n",
              "    }\n",
              "    80% {\n",
              "      border-color: transparent;\n",
              "      border-right-color: var(--fill-color);\n",
              "      border-bottom-color: var(--fill-color);\n",
              "    }\n",
              "    90% {\n",
              "      border-color: transparent;\n",
              "      border-bottom-color: var(--fill-color);\n",
              "    }\n",
              "  }\n",
              "</style>\n",
              "\n",
              "  <script>\n",
              "    async function quickchart(key) {\n",
              "      const quickchartButtonEl =\n",
              "        document.querySelector('#' + key + ' button');\n",
              "      quickchartButtonEl.disabled = true;  // To prevent multiple clicks.\n",
              "      quickchartButtonEl.classList.add('colab-df-spinner');\n",
              "      try {\n",
              "        const charts = await google.colab.kernel.invokeFunction(\n",
              "            'suggestCharts', [key], {});\n",
              "      } catch (error) {\n",
              "        console.error('Error during call to suggestCharts:', error);\n",
              "      }\n",
              "      quickchartButtonEl.classList.remove('colab-df-spinner');\n",
              "      quickchartButtonEl.classList.add('colab-df-quickchart-complete');\n",
              "    }\n",
              "    (() => {\n",
              "      let quickchartButtonEl =\n",
              "        document.querySelector('#df-240f0688-2f7c-4bd5-bffb-d28ae9c0b7e7 button');\n",
              "      quickchartButtonEl.style.display =\n",
              "        google.colab.kernel.accessAllowed ? 'block' : 'none';\n",
              "    })();\n",
              "  </script>\n",
              "</div>\n",
              "    </div>\n",
              "  </div>\n"
            ],
            "application/vnd.google.colaboratory.intrinsic+json": {
              "type": "dataframe",
              "variable_name": "imdb_data",
              "summary": "{\n  \"name\": \"imdb_data\",\n  \"rows\": 50000,\n  \"fields\": [\n    {\n      \"column\": \"review\",\n      \"properties\": {\n        \"dtype\": \"string\",\n        \"num_unique_values\": 49582,\n        \"samples\": [\n          \"\\\"Soul Plane\\\" is a horrible attempt at comedy that only should appeal people with thick skulls, bloodshot eyes and furry pawns. <br /><br />The plot is not only incoherent but also non-existent, acting is mostly sub sub-par with a gang of highly moronic and dreadful characters thrown in for bad measure, jokes are often spotted miles ahead and almost never even a bit amusing. This movie lacks any structure and is full of racial stereotypes that must have seemed old even in the fifties, the only thing it really has going for it is some pretty ladies, but really, if you want that you can rent something from the \\\"Adult\\\" section. OK?<br /><br />I can hardly see anything here to recommend since you'll probably have a lot a better and productive time chasing rats with a sledgehammer or inventing waterproof teabags or whatever.<br /><br />2/10\",\n          \"Guest from the Future tells a fascinating story of time travel, friendship, battle of good and evil -- all with a small budget, child actors, and few special effects. Something for Spielberg and Lucas to learn from. ;) A sixth-grader Kolya \\\"Nick\\\" Gerasimov finds a time machine in the basement of a decrepit building and travels 100 years into the future. He discovers a near-perfect, utopian society where robots play guitars and write poetry, everyone is kind to each other and people enjoy everything technology has to offer. Alice is the daughter of a prominent scientist who invented a device called Mielophone that allows to read minds of humans and animals. The device can be put to both good and bad use, depending on whose hands it falls into. When two evil space pirates from Saturn who want to rule the universe attempt to steal Mielophone, it falls into the hands of 20th century school boy Nick. With the pirates hot on his tracks, he travels back to his time, followed by the pirates, and Alice. Chaos, confusion and funny situations follow as the luckless pirates try to blend in with the earthlings. Alice enrolls in the same school Nick goes to and demonstrates superhuman abilities in PE class. The catch is, Alice doesn't know what Nick looks like, while the pirates do. Also, the pirates are able to change their appearance and turn literally into anyone. (Hmm, I wonder if this is where James Cameron got the idea for Terminator...) Who gets to Nick -- and Mielophone -- first? Excellent plot, non-stop adventures, and great soundtrack. I wish Hollywood made kid movies like this one...\",\n          \"\\\"National Treasure\\\" (2004) is a thoroughly misguided hodge-podge of plot entanglements that borrow from nearly every cloak and dagger government conspiracy clich\\u00e9 that has ever been written. The film stars Nicholas Cage as Benjamin Franklin Gates (how precious is that, I ask you?); a seemingly normal fellow who, for no other reason than being of a lineage of like-minded misguided fortune hunters, decides to steal a 'national treasure' that has been hidden by the United States founding fathers. After a bit of subtext and background that plays laughably (unintentionally) like Indiana Jones meets The Patriot, the film degenerates into one misguided whimsy after another \\u0096 attempting to create a 'Stanley Goodspeed' regurgitation of Nicholas Cage and launch the whole convoluted mess forward with a series of high octane, but disconnected misadventures.<br /><br />The relevancy and logic to having George Washington and his motley crew of patriots burying a king's ransom someplace on native soil, and then, going through the meticulous plan of leaving clues scattered throughout U.S. currency art work, is something that director Jon Turteltaub never quite gets around to explaining. Couldn't Washington found better usage for such wealth during the start up of the country? Hence, we are left with a mystery built on top of an enigma that is already on shaky ground by the time Ben appoints himself the new custodian of this untold wealth. Ben's intentions are noble \\u0096 if confusing. He's set on protecting the treasure. For who and when?\\u0085your guess is as good as mine.<br /><br />But there are a few problems with Ben's crusade. First up, his friend, Ian Holmes (Sean Bean) decides that he can't wait for Ben to make up his mind about stealing the Declaration of Independence from the National Archives (oh, yeah \\u0096 brilliant idea!). Presumably, the back of that famous document holds the secret answer to the ultimate fortune. So Ian tries to kill Ben. The assassination attempt is, of course, unsuccessful, if overly melodramatic. It also affords Ben the opportunity to pick up, and pick on, the very sultry curator of the archives, Abigail Chase (Diane Kruger). She thinks Ben is clearly a nut \\u0096 at least at the beginning. But true to action/romance form, Abby's resolve melts quicker than you can say, \\\"is that the Hope Diamond?\\\" The film moves into full X-File-ish mode, as the FBI, mistakenly believing that Ben is behind the theft, retaliate in various benign ways that lead to a multi-layering of action sequences reminiscent of Mission Impossible meets The Fugitive. Honestly, don't those guys ever get 'intelligence' information that is correct? In the final analysis, \\\"National Treasure\\\" isn't great film making, so much as it's a patchwork rehash of tired old bits from other movies, woven together from scraps, the likes of which would make IL' Betsy Ross blush.<br /><br />The Buena Vista DVD delivers a far more generous treatment than this film is deserving of. The anamorphic widescreen picture exhibits a very smooth and finely detailed image with very rich colors, natural flesh tones, solid blacks and clean whites. The stylized image is also free of blemishes and digital enhancements. The audio is 5.1 and delivers a nice sonic boom to your side and rear speakers with intensity and realism. Extras include a host of promotional junket material that is rather deep and over the top in its explanation of how and why this film was made. If only, as an audience, we had had more clarification as to why Ben and co. were chasing after an illusive treasure, this might have been one good flick. Extras conclude with the theatrical trailer, audio commentary and deleted scenes. Not for the faint-hearted \\u0096 just the thick-headed.\"\n        ],\n        \"semantic_type\": \"\",\n        \"description\": \"\"\n      }\n    },\n    {\n      \"column\": \"sentiment\",\n      \"properties\": {\n        \"dtype\": \"category\",\n        \"num_unique_values\": 2,\n        \"samples\": [\n          \"negative\",\n          \"positive\"\n        ],\n        \"semantic_type\": \"\",\n        \"description\": \"\"\n      }\n    }\n  ]\n}"
            }
          },
          "metadata": {},
          "execution_count": 2
        }
      ]
    },
    {
      "cell_type": "code",
      "source": [
        "imdb_data.shape"
      ],
      "metadata": {
        "colab": {
          "base_uri": "https://localhost:8080/"
        },
        "id": "OiEWbyJrHUy4",
        "outputId": "5051a1da-998f-4875-971e-1bb1fb5dbc21"
      },
      "execution_count": null,
      "outputs": [
        {
          "output_type": "execute_result",
          "data": {
            "text/plain": [
              "(50000, 2)"
            ]
          },
          "metadata": {},
          "execution_count": 3
        }
      ]
    },
    {
      "cell_type": "markdown",
      "metadata": {
        "id": "kHFXYYsz_sCv"
      },
      "source": [
        "#### Шаг №1 Подготовка данных\n",
        "\n",
        "Обязательно предобработайте данные!\n",
        "\n"
      ]
    },
    {
      "cell_type": "code",
      "execution_count": null,
      "metadata": {
        "colab": {
          "base_uri": "https://localhost:8080/"
        },
        "id": "FpxRKJ33_sCw",
        "outputId": "b0fd66e8-49b5-4398-f8b0-3abaabadd0ac"
      },
      "outputs": [
        {
          "output_type": "stream",
          "name": "stdout",
          "text": [
            "since five turning wasting time enough\n"
          ]
        }
      ],
      "source": [
        "def preprocess_text(text):\n",
        "\n",
        "    # Инициализация лемматизатора\n",
        "    lemmatizer = WordNetLemmatizer()\n",
        "\n",
        "    # Инициализация регулярного выражения для удаления чисел\n",
        "    number_pattern = re.compile(r'\\b\\d+\\b')\n",
        "    p = inflect.engine()\n",
        "\n",
        "    # Приведение текста к нижнему регистру\n",
        "    text = text.lower()\n",
        "\n",
        "    # Удаление HTML-тегов\n",
        "    text = re.sub(r'<[^>]+>', ' ', text)\n",
        "\n",
        "    # Замена чисел на их текстовое представление\n",
        "    text = re.sub(r'\\b\\d+\\b', lambda x: p.number_to_words(x.group()), text)\n",
        "\n",
        "    # Удаление знаков препинания и специальных символов\n",
        "    text = re.sub(r'[\\W_]', ' ', text)\n",
        "\n",
        "    # Токенизация текста\n",
        "    tokens = word_tokenize(text)\n",
        "\n",
        "    # Удаление стоп-слов\n",
        "    stop_words = set(stopwords.words('english'))\n",
        "    tokens = [token for token in tokens if token not in stop_words]\n",
        "\n",
        "    # Лемматизация\n",
        "    tokens = [lemmatizer.lemmatize(token) for token in tokens]\n",
        "\n",
        "    return ' '.join(tokens)\n",
        "\n",
        "text = \"I've been out since 5, turning up. I'm wasting time, not enough!! :/\"\n",
        "\n",
        "preprocessed_text = preprocess_text(text)\n",
        "\n",
        "print(preprocessed_text)"
      ]
    },
    {
      "cell_type": "code",
      "execution_count": null,
      "metadata": {
        "colab": {
          "base_uri": "https://localhost:8080/"
        },
        "id": "vuufN3-bfytJ",
        "outputId": "2c4077f0-bbb0-434b-d58d-a28df54b1031"
      },
      "outputs": [
        {
          "output_type": "execute_result",
          "data": {
            "text/plain": [
              "(15000, 2)"
            ]
          },
          "metadata": {},
          "execution_count": 5
        }
      ],
      "source": [
        "imdb_data = imdb_data[:15000]\n",
        "imdb_data.shape"
      ]
    },
    {
      "cell_type": "code",
      "source": [
        "# Применение предобработки к столбцу review\n",
        "imdb_data['review'] = imdb_data['review'].apply(preprocess_text)\n",
        "imdb_data['sentiment'] = imdb_data['sentiment'].apply(lambda x: 1 if x == 'positive' else 0)\n",
        "\n",
        "# Вывод первых пяти строк датасета\n",
        "print(imdb_data.head())"
      ],
      "metadata": {
        "colab": {
          "base_uri": "https://localhost:8080/"
        },
        "id": "2SfZUJiYX-ii",
        "outputId": "1dd9cce8-8830-4367-927b-3594d620d736"
      },
      "execution_count": null,
      "outputs": [
        {
          "output_type": "stream",
          "name": "stdout",
          "text": [
            "                                              review  sentiment\n",
            "0  one reviewer mentioned watching one oz episode...          1\n",
            "1  wonderful little production filming technique ...          1\n",
            "2  thought wonderful way spend time hot summer we...          1\n",
            "3  basically family little boy jake think zombie ...          0\n",
            "4  petter mattei love time money visually stunnin...          1\n"
          ]
        }
      ]
    },
    {
      "cell_type": "code",
      "execution_count": null,
      "metadata": {
        "id": "GMhIBfZ9eYKz"
      },
      "outputs": [],
      "source": [
        "X = imdb_data['review']\n",
        "y = imdb_data['sentiment']\n",
        "\n",
        "# Разделение данных на обучающую и тестовую выборки (80% train, 20% test)\n",
        "X_train, X_test, y_train, y_test = train_test_split(X, y, test_size=0.2, random_state=42)"
      ]
    },
    {
      "cell_type": "code",
      "execution_count": null,
      "metadata": {
        "colab": {
          "base_uri": "https://localhost:8080/"
        },
        "id": "C-ABNpV6hzcq",
        "outputId": "dc39223e-958d-461c-e385-17927bb9eb40"
      },
      "outputs": [
        {
          "output_type": "execute_result",
          "data": {
            "text/plain": [
              "9839     bad one know anything movie get old telling pe...\n",
              "9680     liked film review mentioned good cast plot int...\n",
              "7093     yeah unfortunately came across dvd found incre...\n",
              "11293    plot predictable fighting gun get old definate...\n",
              "820      seeing dick tracy six ninety nine bin future s...\n",
              "Name: review, dtype: object"
            ]
          },
          "metadata": {},
          "execution_count": 8
        }
      ],
      "source": [
        "X_train.head(5)"
      ]
    },
    {
      "cell_type": "code",
      "execution_count": null,
      "metadata": {
        "colab": {
          "base_uri": "https://localhost:8080/"
        },
        "id": "IvuYs1a-iAqG",
        "outputId": "b89e9c17-de98-46f7-8ec9-435e4b5fe896"
      },
      "outputs": [
        {
          "output_type": "execute_result",
          "data": {
            "text/plain": [
              "9839     1\n",
              "9680     0\n",
              "7093     0\n",
              "11293    0\n",
              "820      1\n",
              "Name: sentiment, dtype: int64"
            ]
          },
          "metadata": {},
          "execution_count": 9
        }
      ],
      "source": [
        "y_train.head(5)"
      ]
    },
    {
      "cell_type": "markdown",
      "metadata": {
        "id": "QSyjaCK9_sCw"
      },
      "source": [
        "В качестве исследуемых способов представления текстов необходимо рассмотреть:\n",
        "\n",
        "#### 1.Компоненты вектора: частоты ([CountVectorizer](https://scikit-learn.org/stable/modules/generated/sklearn.feature_extraction.text.CountVectorizer.html))."
      ]
    },
    {
      "cell_type": "code",
      "execution_count": null,
      "metadata": {
        "id": "71u0ZT2g_sCw"
      },
      "outputs": [],
      "source": [
        "vectorizer = CountVectorizer()\n",
        "x_CountVectorizer = vectorizer.fit_transform(X_train)"
      ]
    },
    {
      "cell_type": "markdown",
      "metadata": {
        "id": "I58NOdG7_sCw"
      },
      "source": [
        "#### 2. Компоненты вектора: оценки tf-idf для слова ([TfidfVectorizer](https://scikit-learn.org/stable/modules/generated/sklearn.feature_extraction.text.TfidfVectorizer.html))."
      ]
    },
    {
      "cell_type": "code",
      "execution_count": null,
      "metadata": {
        "id": "eJUPHoTr_sCw"
      },
      "outputs": [],
      "source": [
        "vectorizer = TfidfVectorizer()\n",
        "x_TfidfVectorizer = vectorizer.fit_transform(X_train)"
      ]
    },
    {
      "cell_type": "markdown",
      "metadata": {
        "id": "Q6R79jC2_sCx"
      },
      "source": [
        "#### 3. Компоненты вектора: частоты N-грам."
      ]
    },
    {
      "cell_type": "code",
      "execution_count": null,
      "metadata": {
        "id": "1buknPA5_sCx"
      },
      "outputs": [],
      "source": [
        "vectorizer = CountVectorizer(ngram_range=(2, 2))\n",
        "x_Ngram = vectorizer.fit_transform(X_train)"
      ]
    },
    {
      "cell_type": "markdown",
      "metadata": {
        "id": "cCZjV5Iz_sCx"
      },
      "source": [
        "### Шаг 2. Исследование моделей\n",
        "\n",
        "<table>\n",
        "\t\t<tr>\n",
        "\t\t\t<td></td>\n",
        "\t\t\t<td>$y = 1$</td>\n",
        "\t\t\t<td>$y = 0$</td>\n",
        "\t\t</tr>\n",
        "\t\t<tr>\n",
        "\t\t\t<td>$a(x) = 1$</td>\n",
        "\t\t\t<td>True Positive (TP)</td>\n",
        "\t\t\t<td>False Positive (FP)</td>\n",
        "\t\t</tr>\n",
        "    \t<tr>\n",
        "\t\t\t<td>$a(x) = 0$</td>\n",
        "\t\t\t<td>False Negative (FN)</td>\n",
        "\t\t\t<td>True Negative (TN)</td>\n",
        "\t\t</tr>\n",
        "</table>\n",
        "\n",
        "В зависимости от способа представления оценить качество классификации как долю правильных ответов на выборке ($\\operatorname{accuracy} = \\frac{\\operatorname{TP} + \\operatorname{TN}}{\\operatorname{TP} + \\operatorname{TN} + \\operatorname{FP} + \\operatorname{FN}}$). Используйте перекрестную проверку ([cross_val_score](https://scikit-learn.org/stable/modules/generated/sklearn.model_selection.cross_val_score.html), [KFold](https://scikit-learn.org/stable/modules/generated/sklearn.model_selection.KFold.html)).\n",
        "\n",
        "Для каждого из нижеперечисленных моделей необходимо определить оптимальные гиперпараметры ([GridSearchCV](https://scikit-learn.org/stable/modules/generated/sklearn.model_selection.GridSearchCV.html))\n",
        "\n"
      ]
    },
    {
      "cell_type": "code",
      "source": [
        "# Создаем списки для сохранения результатов\n",
        "svc_accuracies = []\n",
        "rfc_accuracies = []\n",
        "\n",
        "# Модели и методы\n",
        "models = ['SVC', 'RandomForestClassifier']\n",
        "methods = ['CountVectorizer', 'TfidfVectorizer', 'Ngrams']\n",
        "X_data = [x_CountVectorizer, x_TfidfVectorizer, x_Ngram]"
      ],
      "metadata": {
        "id": "-Rcwqqk3yqlz"
      },
      "execution_count": null,
      "outputs": []
    },
    {
      "cell_type": "code",
      "source": [
        "def train_model(X_data, methods, parameters, model_type):\n",
        "    accuracies = []\n",
        "\n",
        "    for X, method in zip(X_data, methods):\n",
        "        print(f\"Training model for {method}...\")\n",
        "        # Инициализируем KFold для перекрестной проверки\n",
        "        kf = KFold(n_splits=5, shuffle=True, random_state=42)\n",
        "\n",
        "        # Создаем объект GridSearchCV для подбора оптимальных параметров\n",
        "        clf = GridSearchCV(model_type(), parameters, scoring='accuracy', cv=kf, verbose=3)\n",
        "\n",
        "        # Обучаем модель\n",
        "        clf.fit(X, y_train)\n",
        "\n",
        "        # Инициализируем модель с лучшими параметрами\n",
        "        cl = model_type(**clf.best_params_)\n",
        "\n",
        "        # Оценка точности с использованием перекрестной проверки\n",
        "        accuracy = cross_val_score(cl, X, y_train, scoring='accuracy', verbose=3)\n",
        "\n",
        "        # Сохраняем точность и параметры модели\n",
        "        accuracies.append((method, clf.best_params_, accuracy))\n",
        "\n",
        "    return accuracies"
      ],
      "metadata": {
        "id": "DrsZ8cO8nz4r"
      },
      "execution_count": null,
      "outputs": []
    },
    {
      "cell_type": "markdown",
      "source": [
        "Качество классификации оцениваем для следующих моделей:\n",
        "\n",
        "#### 1. Машина опорных векторов ([SVC](https://scikit-learn.org/stable/modules/generated/sklearn.svm.SVC.html))."
      ],
      "metadata": {
        "id": "FbHqh11-ypzT"
      }
    },
    {
      "cell_type": "code",
      "source": [
        "# Определяем различные параметры для SVC\n",
        "#parameters_svc = [\n",
        "#    {'kernel': ['linear'], 'C': [1, 10]},  # Линейное ядро\n",
        "#    {'kernel': ['rbf'], 'C': [1, 10]}, #, 'gamma': [1, 10]},  # RBF ядро\n",
        "#    {'kernel': ['poly'], 'C': [1, 10]}, #, 'degree': [2, 5]}  # Полиномиальное ядро\n",
        "#]\n",
        "\n",
        "parameters_svc = {'kernel': ['linear', 'poly'], 'C': [1, 10]}\n",
        "\n",
        "svc_accuracies = train_model(X_data, methods, parameters_svc, SVC)"
      ],
      "metadata": {
        "colab": {
          "base_uri": "https://localhost:8080/"
        },
        "id": "qmqPE0UKssu4",
        "outputId": "112f3fa3-157f-4a1f-a3e3-8f8e4a9a5c61"
      },
      "execution_count": null,
      "outputs": [
        {
          "output_type": "stream",
          "name": "stdout",
          "text": [
            "Training model for CountVectorizer...\n",
            "Fitting 5 folds for each of 4 candidates, totalling 20 fits\n",
            "[CV 1/5] END ................C=1, kernel=linear;, score=0.845 total time=  53.1s\n",
            "[CV 2/5] END ................C=1, kernel=linear;, score=0.831 total time=  52.4s\n",
            "[CV 3/5] END ................C=1, kernel=linear;, score=0.847 total time=  52.0s\n",
            "[CV 4/5] END ................C=1, kernel=linear;, score=0.836 total time=  57.3s\n",
            "[CV 5/5] END ................C=1, kernel=linear;, score=0.852 total time=  52.3s\n",
            "[CV 1/5] END ..................C=1, kernel=poly;, score=0.694 total time= 1.9min\n",
            "[CV 2/5] END ..................C=1, kernel=poly;, score=0.792 total time= 1.9min\n",
            "[CV 3/5] END ..................C=1, kernel=poly;, score=0.657 total time= 1.9min\n",
            "[CV 4/5] END ..................C=1, kernel=poly;, score=0.767 total time= 1.8min\n",
            "[CV 5/5] END ..................C=1, kernel=poly;, score=0.766 total time= 1.8min\n",
            "[CV 1/5] END ...............C=10, kernel=linear;, score=0.845 total time=  51.5s\n",
            "[CV 2/5] END ...............C=10, kernel=linear;, score=0.831 total time=  53.4s\n",
            "[CV 3/5] END ...............C=10, kernel=linear;, score=0.847 total time=  52.0s\n",
            "[CV 4/5] END ...............C=10, kernel=linear;, score=0.836 total time=  51.9s\n",
            "[CV 5/5] END ...............C=10, kernel=linear;, score=0.853 total time=  51.7s\n",
            "[CV 1/5] END .................C=10, kernel=poly;, score=0.779 total time= 1.6min\n",
            "[CV 2/5] END .................C=10, kernel=poly;, score=0.789 total time= 1.6min\n",
            "[CV 3/5] END .................C=10, kernel=poly;, score=0.762 total time= 1.6min\n",
            "[CV 4/5] END .................C=10, kernel=poly;, score=0.791 total time= 1.6min\n",
            "[CV 5/5] END .................C=10, kernel=poly;, score=0.816 total time= 1.6min\n",
            "[CV] END ................................ score: (test=0.853) total time=  54.3s\n",
            "[CV] END ................................ score: (test=0.839) total time=  53.6s\n",
            "[CV] END ................................ score: (test=0.839) total time=  53.3s\n",
            "[CV] END ................................ score: (test=0.842) total time=  52.9s\n",
            "[CV] END ................................ score: (test=0.845) total time=  53.6s\n",
            "Training model for TfidfVectorizer...\n",
            "Fitting 5 folds for each of 4 candidates, totalling 20 fits\n",
            "[CV 1/5] END ................C=1, kernel=linear;, score=0.885 total time= 1.3min\n",
            "[CV 2/5] END ................C=1, kernel=linear;, score=0.884 total time= 1.2min\n",
            "[CV 3/5] END ................C=1, kernel=linear;, score=0.876 total time= 1.2min\n",
            "[CV 4/5] END ................C=1, kernel=linear;, score=0.873 total time= 1.2min\n",
            "[CV 5/5] END ................C=1, kernel=linear;, score=0.885 total time= 1.2min\n",
            "[CV 1/5] END ..................C=1, kernel=poly;, score=0.813 total time= 4.5min\n",
            "[CV 2/5] END ..................C=1, kernel=poly;, score=0.835 total time= 4.5min\n",
            "[CV 3/5] END ..................C=1, kernel=poly;, score=0.797 total time= 4.6min\n",
            "[CV 4/5] END ..................C=1, kernel=poly;, score=0.823 total time= 4.5min\n",
            "[CV 5/5] END ..................C=1, kernel=poly;, score=0.842 total time= 4.6min\n",
            "[CV 1/5] END ...............C=10, kernel=linear;, score=0.862 total time= 2.2min\n",
            "[CV 2/5] END ...............C=10, kernel=linear;, score=0.853 total time= 2.2min\n",
            "[CV 3/5] END ...............C=10, kernel=linear;, score=0.856 total time= 2.1min\n",
            "[CV 4/5] END ...............C=10, kernel=linear;, score=0.849 total time= 2.1min\n",
            "[CV 5/5] END ...............C=10, kernel=linear;, score=0.871 total time= 2.2min\n",
            "[CV 1/5] END .................C=10, kernel=poly;, score=0.820 total time= 5.0min\n",
            "[CV 2/5] END .................C=10, kernel=poly;, score=0.839 total time= 4.9min\n",
            "[CV 3/5] END .................C=10, kernel=poly;, score=0.804 total time= 5.0min\n",
            "[CV 4/5] END .................C=10, kernel=poly;, score=0.825 total time= 4.8min\n",
            "[CV 5/5] END .................C=10, kernel=poly;, score=0.843 total time= 5.0min\n",
            "[CV] END ................................ score: (test=0.877) total time= 1.3min\n",
            "[CV] END ................................ score: (test=0.874) total time= 1.2min\n",
            "[CV] END ................................ score: (test=0.877) total time= 1.2min\n",
            "[CV] END ................................ score: (test=0.878) total time= 1.2min\n",
            "[CV] END ................................ score: (test=0.884) total time= 1.2min\n",
            "Training model for Ngrams...\n",
            "Fitting 5 folds for each of 4 candidates, totalling 20 fits\n",
            "[CV 1/5] END ................C=1, kernel=linear;, score=0.824 total time= 5.6min\n",
            "[CV 2/5] END ................C=1, kernel=linear;, score=0.830 total time= 5.6min\n",
            "[CV 3/5] END ................C=1, kernel=linear;, score=0.821 total time= 5.6min\n",
            "[CV 4/5] END ................C=1, kernel=linear;, score=0.817 total time= 5.7min\n",
            "[CV 5/5] END ................C=1, kernel=linear;, score=0.847 total time= 5.8min\n",
            "[CV 1/5] END ..................C=1, kernel=poly;, score=0.522 total time= 2.6min\n",
            "[CV 2/5] END ..................C=1, kernel=poly;, score=0.504 total time= 2.7min\n",
            "[CV 3/5] END ..................C=1, kernel=poly;, score=0.482 total time= 2.7min\n",
            "[CV 4/5] END ..................C=1, kernel=poly;, score=0.506 total time= 2.7min\n",
            "[CV 5/5] END ..................C=1, kernel=poly;, score=0.493 total time= 2.6min\n",
            "[CV 1/5] END ...............C=10, kernel=linear;, score=0.824 total time= 5.5min\n",
            "[CV 2/5] END ...............C=10, kernel=linear;, score=0.830 total time= 5.6min\n",
            "[CV 3/5] END ...............C=10, kernel=linear;, score=0.821 total time= 5.6min\n",
            "[CV 4/5] END ...............C=10, kernel=linear;, score=0.817 total time= 5.5min\n",
            "[CV 5/5] END ...............C=10, kernel=linear;, score=0.847 total time= 5.6min\n",
            "[CV 1/5] END .................C=10, kernel=poly;, score=0.492 total time= 6.7min\n",
            "[CV 2/5] END .................C=10, kernel=poly;, score=0.505 total time= 6.7min\n",
            "[CV 3/5] END .................C=10, kernel=poly;, score=0.482 total time= 6.6min\n",
            "[CV 4/5] END .................C=10, kernel=poly;, score=0.507 total time= 6.7min\n",
            "[CV 5/5] END .................C=10, kernel=poly;, score=0.520 total time= 6.6min\n",
            "[CV] END ................................ score: (test=0.818) total time= 5.6min\n",
            "[CV] END ................................ score: (test=0.823) total time= 5.6min\n",
            "[CV] END ................................ score: (test=0.827) total time= 5.6min\n",
            "[CV] END ................................ score: (test=0.823) total time= 5.7min\n",
            "[CV] END ................................ score: (test=0.839) total time= 5.6min\n"
          ]
        }
      ]
    },
    {
      "cell_type": "code",
      "source": [
        "svc_accuracies"
      ],
      "metadata": {
        "id": "14lktN_2UU4w",
        "colab": {
          "base_uri": "https://localhost:8080/"
        },
        "outputId": "932cd8eb-2f0b-48c1-efbe-13e6016a5172"
      },
      "execution_count": null,
      "outputs": [
        {
          "data": {
            "text/plain": [
              "[('CountVectorizer',\n",
              "  {'C': 10, 'kernel': 'linear'},\n",
              "  array([0.85291667, 0.83916667, 0.83875   , 0.84208333, 0.845     ])),\n",
              " ('TfidfVectorizer',\n",
              "  {'C': 1, 'kernel': 'linear'},\n",
              "  array([0.8775    , 0.87375   , 0.8775    , 0.87791667, 0.88416667])),\n",
              " ('Ngrams',\n",
              "  {'C': 1, 'kernel': 'linear'},\n",
              "  array([0.8175    , 0.82291667, 0.82708333, 0.82291667, 0.83916667]))]"
            ]
          },
          "execution_count": 16,
          "metadata": {},
          "output_type": "execute_result"
        }
      ]
    },
    {
      "cell_type": "markdown",
      "metadata": {
        "id": "aqK_esDx_sCy"
      },
      "source": [
        "#### 2. Случайный лес ([RandomForestClassifier](https://scikit-learn.org/stable/modules/generated/sklearn.ensemble.RandomForestClassifier.html))."
      ]
    },
    {
      "cell_type": "code",
      "source": [
        "# Определяем различные параметры для RandomForestClassifier\n",
        "parameters_rfc = {\n",
        "    'n_estimators': [10, 100, 200],  # Количество деревьев\n",
        "    'max_depth': [1, 10],  # Максимальная глубина деревьев\n",
        "}\n",
        "\n",
        "rfc_accuracies = train_model(X_data, methods, parameters_rfc, RandomForestClassifier)"
      ],
      "metadata": {
        "id": "BeUrqPorhv3w",
        "colab": {
          "base_uri": "https://localhost:8080/"
        },
        "outputId": "c01f137d-f956-4408-f278-b54f6c68964e"
      },
      "execution_count": null,
      "outputs": [
        {
          "output_type": "stream",
          "name": "stdout",
          "text": [
            "Training model for CountVectorizer...\n",
            "Fitting 5 folds for each of 6 candidates, totalling 30 fits\n",
            "[CV 1/5] END ......max_depth=1, n_estimators=10;, score=0.539 total time=   0.1s\n",
            "[CV 2/5] END ......max_depth=1, n_estimators=10;, score=0.564 total time=   0.1s\n",
            "[CV 3/5] END ......max_depth=1, n_estimators=10;, score=0.541 total time=   0.1s\n",
            "[CV 4/5] END ......max_depth=1, n_estimators=10;, score=0.613 total time=   0.1s\n",
            "[CV 5/5] END ......max_depth=1, n_estimators=10;, score=0.567 total time=   0.1s\n",
            "[CV 1/5] END .....max_depth=1, n_estimators=100;, score=0.749 total time=   0.7s\n",
            "[CV 2/5] END .....max_depth=1, n_estimators=100;, score=0.601 total time=   0.8s\n",
            "[CV 3/5] END .....max_depth=1, n_estimators=100;, score=0.740 total time=   0.8s\n",
            "[CV 4/5] END .....max_depth=1, n_estimators=100;, score=0.635 total time=   0.8s\n",
            "[CV 5/5] END .....max_depth=1, n_estimators=100;, score=0.559 total time=   0.8s\n",
            "[CV 1/5] END .....max_depth=1, n_estimators=200;, score=0.777 total time=   1.3s\n",
            "[CV 2/5] END .....max_depth=1, n_estimators=200;, score=0.628 total time=   1.0s\n",
            "[CV 3/5] END .....max_depth=1, n_estimators=200;, score=0.752 total time=   1.0s\n",
            "[CV 4/5] END .....max_depth=1, n_estimators=200;, score=0.593 total time=   1.0s\n",
            "[CV 5/5] END .....max_depth=1, n_estimators=200;, score=0.575 total time=   1.0s\n",
            "[CV 1/5] END .....max_depth=10, n_estimators=10;, score=0.737 total time=   0.3s\n",
            "[CV 2/5] END .....max_depth=10, n_estimators=10;, score=0.741 total time=   0.3s\n",
            "[CV 3/5] END .....max_depth=10, n_estimators=10;, score=0.721 total time=   0.3s\n",
            "[CV 4/5] END .....max_depth=10, n_estimators=10;, score=0.720 total time=   0.3s\n",
            "[CV 5/5] END .....max_depth=10, n_estimators=10;, score=0.718 total time=   0.3s\n",
            "[CV 1/5] END ....max_depth=10, n_estimators=100;, score=0.836 total time=   2.4s\n",
            "[CV 2/5] END ....max_depth=10, n_estimators=100;, score=0.840 total time=   2.8s\n",
            "[CV 3/5] END ....max_depth=10, n_estimators=100;, score=0.824 total time=   3.7s\n",
            "[CV 4/5] END ....max_depth=10, n_estimators=100;, score=0.821 total time=   2.4s\n",
            "[CV 5/5] END ....max_depth=10, n_estimators=100;, score=0.828 total time=   2.4s\n",
            "[CV 1/5] END ....max_depth=10, n_estimators=200;, score=0.846 total time=   4.7s\n",
            "[CV 2/5] END ....max_depth=10, n_estimators=200;, score=0.854 total time=   6.7s\n",
            "[CV 3/5] END ....max_depth=10, n_estimators=200;, score=0.833 total time=   5.1s\n",
            "[CV 4/5] END ....max_depth=10, n_estimators=200;, score=0.834 total time=   6.5s\n",
            "[CV 5/5] END ....max_depth=10, n_estimators=200;, score=0.829 total time=   5.3s\n",
            "[CV] END ................................ score: (test=0.837) total time=   6.1s\n",
            "[CV] END ................................ score: (test=0.828) total time=   5.5s\n",
            "[CV] END ................................ score: (test=0.839) total time=   4.7s\n",
            "[CV] END ................................ score: (test=0.847) total time=   6.5s\n",
            "[CV] END ................................ score: (test=0.852) total time=   4.8s\n",
            "Training model for TfidfVectorizer...\n",
            "Fitting 5 folds for each of 6 candidates, totalling 30 fits\n",
            "[CV 1/5] END ......max_depth=1, n_estimators=10;, score=0.600 total time=   0.1s\n",
            "[CV 2/5] END ......max_depth=1, n_estimators=10;, score=0.596 total time=   0.1s\n",
            "[CV 3/5] END ......max_depth=1, n_estimators=10;, score=0.520 total time=   0.1s\n",
            "[CV 4/5] END ......max_depth=1, n_estimators=10;, score=0.606 total time=   0.1s\n",
            "[CV 5/5] END ......max_depth=1, n_estimators=10;, score=0.520 total time=   0.1s\n",
            "[CV 1/5] END .....max_depth=1, n_estimators=100;, score=0.748 total time=   0.5s\n",
            "[CV 2/5] END .....max_depth=1, n_estimators=100;, score=0.642 total time=   0.5s\n",
            "[CV 3/5] END .....max_depth=1, n_estimators=100;, score=0.738 total time=   0.5s\n",
            "[CV 4/5] END .....max_depth=1, n_estimators=100;, score=0.606 total time=   0.5s\n",
            "[CV 5/5] END .....max_depth=1, n_estimators=100;, score=0.544 total time=   0.5s\n",
            "[CV 1/5] END .....max_depth=1, n_estimators=200;, score=0.778 total time=   1.0s\n",
            "[CV 2/5] END .....max_depth=1, n_estimators=200;, score=0.632 total time=   1.2s\n",
            "[CV 3/5] END .....max_depth=1, n_estimators=200;, score=0.757 total time=   1.5s\n",
            "[CV 4/5] END .....max_depth=1, n_estimators=200;, score=0.605 total time=   1.6s\n",
            "[CV 5/5] END .....max_depth=1, n_estimators=200;, score=0.541 total time=   1.2s\n",
            "[CV 1/5] END .....max_depth=10, n_estimators=10;, score=0.722 total time=   0.3s\n",
            "[CV 2/5] END .....max_depth=10, n_estimators=10;, score=0.725 total time=   0.3s\n",
            "[CV 3/5] END .....max_depth=10, n_estimators=10;, score=0.727 total time=   0.3s\n",
            "[CV 4/5] END .....max_depth=10, n_estimators=10;, score=0.716 total time=   0.3s\n",
            "[CV 5/5] END .....max_depth=10, n_estimators=10;, score=0.711 total time=   0.3s\n",
            "[CV 1/5] END ....max_depth=10, n_estimators=100;, score=0.836 total time=   2.6s\n",
            "[CV 2/5] END ....max_depth=10, n_estimators=100;, score=0.839 total time=   2.6s\n",
            "[CV 3/5] END ....max_depth=10, n_estimators=100;, score=0.820 total time=   2.7s\n",
            "[CV 4/5] END ....max_depth=10, n_estimators=100;, score=0.817 total time=   4.2s\n",
            "[CV 5/5] END ....max_depth=10, n_estimators=100;, score=0.822 total time=   2.6s\n",
            "[CV 1/5] END ....max_depth=10, n_estimators=200;, score=0.843 total time=   5.2s\n",
            "[CV 2/5] END ....max_depth=10, n_estimators=200;, score=0.845 total time=   6.9s\n",
            "[CV 3/5] END ....max_depth=10, n_estimators=200;, score=0.823 total time=   5.2s\n",
            "[CV 4/5] END ....max_depth=10, n_estimators=200;, score=0.834 total time=   5.4s\n",
            "[CV 5/5] END ....max_depth=10, n_estimators=200;, score=0.826 total time=   6.6s\n",
            "[CV] END ................................ score: (test=0.836) total time=   5.5s\n",
            "[CV] END ................................ score: (test=0.834) total time=   6.3s\n",
            "[CV] END ................................ score: (test=0.837) total time=   5.2s\n",
            "[CV] END ................................ score: (test=0.838) total time=   6.9s\n",
            "[CV] END ................................ score: (test=0.844) total time=   5.2s\n",
            "Training model for Ngrams...\n",
            "Fitting 5 folds for each of 6 candidates, totalling 30 fits\n",
            "[CV 1/5] END ......max_depth=1, n_estimators=10;, score=0.517 total time=   0.2s\n",
            "[CV 2/5] END ......max_depth=1, n_estimators=10;, score=0.501 total time=   0.3s\n",
            "[CV 3/5] END ......max_depth=1, n_estimators=10;, score=0.507 total time=   0.3s\n",
            "[CV 4/5] END ......max_depth=1, n_estimators=10;, score=0.498 total time=   0.3s\n",
            "[CV 5/5] END ......max_depth=1, n_estimators=10;, score=0.489 total time=   0.3s\n",
            "[CV 1/5] END .....max_depth=1, n_estimators=100;, score=0.548 total time=   1.7s\n",
            "[CV 2/5] END .....max_depth=1, n_estimators=100;, score=0.502 total time=   2.0s\n",
            "[CV 3/5] END .....max_depth=1, n_estimators=100;, score=0.561 total time=   2.7s\n",
            "[CV 4/5] END .....max_depth=1, n_estimators=100;, score=0.502 total time=   1.7s\n",
            "[CV 5/5] END .....max_depth=1, n_estimators=100;, score=0.490 total time=   1.7s\n",
            "[CV 1/5] END .....max_depth=1, n_estimators=200;, score=0.558 total time=   3.3s\n",
            "[CV 2/5] END .....max_depth=1, n_estimators=200;, score=0.501 total time=   3.4s\n",
            "[CV 3/5] END .....max_depth=1, n_estimators=200;, score=0.609 total time=   5.4s\n",
            "[CV 4/5] END .....max_depth=1, n_estimators=200;, score=0.497 total time=   3.3s\n",
            "[CV 5/5] END .....max_depth=1, n_estimators=200;, score=0.487 total time=   3.1s\n",
            "[CV 1/5] END .....max_depth=10, n_estimators=10;, score=0.544 total time=   1.0s\n",
            "[CV 2/5] END .....max_depth=10, n_estimators=10;, score=0.550 total time=   1.0s\n",
            "[CV 3/5] END .....max_depth=10, n_estimators=10;, score=0.573 total time=   1.2s\n",
            "[CV 4/5] END .....max_depth=10, n_estimators=10;, score=0.549 total time=   1.8s\n",
            "[CV 5/5] END .....max_depth=10, n_estimators=10;, score=0.555 total time=   1.9s\n",
            "[CV 1/5] END ....max_depth=10, n_estimators=100;, score=0.703 total time=   9.7s\n",
            "[CV 2/5] END ....max_depth=10, n_estimators=100;, score=0.673 total time=  11.7s\n",
            "[CV 3/5] END ....max_depth=10, n_estimators=100;, score=0.730 total time=  11.6s\n",
            "[CV 4/5] END ....max_depth=10, n_estimators=100;, score=0.684 total time=  11.6s\n",
            "[CV 5/5] END ....max_depth=10, n_estimators=100;, score=0.647 total time=  13.0s\n",
            "[CV 1/5] END ....max_depth=10, n_estimators=200;, score=0.755 total time=  21.4s\n",
            "[CV 2/5] END ....max_depth=10, n_estimators=200;, score=0.699 total time=  23.0s\n",
            "[CV 3/5] END ....max_depth=10, n_estimators=200;, score=0.755 total time=  21.2s\n",
            "[CV 4/5] END ....max_depth=10, n_estimators=200;, score=0.658 total time=  23.2s\n",
            "[CV 5/5] END ....max_depth=10, n_estimators=200;, score=0.632 total time=  21.1s\n",
            "[CV] END ................................ score: (test=0.724) total time=  21.8s\n",
            "[CV] END ................................ score: (test=0.720) total time=  22.3s\n",
            "[CV] END ................................ score: (test=0.710) total time=  21.3s\n",
            "[CV] END ................................ score: (test=0.709) total time=  23.0s\n",
            "[CV] END ................................ score: (test=0.737) total time=  21.1s\n"
          ]
        }
      ]
    },
    {
      "cell_type": "code",
      "source": [
        "rfc_accuracies"
      ],
      "metadata": {
        "id": "1zs1gLk6b4ra"
      },
      "execution_count": null,
      "outputs": []
    },
    {
      "cell_type": "markdown",
      "metadata": {
        "id": "5iR5IdCL_sCy"
      },
      "source": [
        "### Шаг 3. Сравнение результатов\n",
        "\n",
        "Сравнить точность обученных моделей. Найти наиболее точную."
      ]
    },
    {
      "cell_type": "code",
      "source": [
        "# mean для каждой модели и метода\n",
        "mean_accuracies = {model: {method: [] for method in methods} for model in models}\n",
        "\n",
        "# Заполнение mean\n",
        "for i, model in enumerate(models):\n",
        "    for j, method in enumerate(methods):\n",
        "        # Определение точностей в зависимости от модели\n",
        "        if model == 'SVC':\n",
        "            accuracies = [accuracy for m, params, accuracy in svc_accuracies if m == method]\n",
        "        elif model == 'RandomForestClassifier':\n",
        "            accuracies = [accuracy for m, params, accuracy in rfc_accuracies if m == method]\n",
        "        # Получение средней точности для текущей модели и метода\n",
        "        mean_accuracies[model][method] = np.mean(accuracies)\n",
        "\n",
        "# Вывод результатов\n",
        "for model in models:\n",
        "    print(f\"Модель: {model}\")\n",
        "    for method, accuracy in mean_accuracies[model].items():\n",
        "        print(f\"{method}: {accuracy}\")\n",
        "    print()"
      ],
      "metadata": {
        "id": "Ycy_t0tDiCbo"
      },
      "execution_count": null,
      "outputs": []
    },
    {
      "cell_type": "code",
      "source": [
        "# Создание графика с двумя подграфиками\n",
        "fig, axes = plt.subplots(nrows=1, ncols=2, figsize=(12, 6))\n",
        "\n",
        "# Для каждой модели\n",
        "for ax, (model, accuracies) in zip(axes, mean_accuracies.items()):\n",
        "    # Создание столбчатой диаграммы для каждой модели\n",
        "    ax.bar(np.arange(len(methods)), list(accuracies.values()), label=model)\n",
        "\n",
        "    # Установка меток по оси x\n",
        "    ax.set_xticks(np.arange(len(methods)))\n",
        "    ax.set_xticklabels(methods)\n",
        "\n",
        "    # Установка названия оси x\n",
        "    ax.set_xlabel('Метод векторизации')\n",
        "\n",
        "    # Установка названия оси y\n",
        "    ax.set_ylabel('Средняя точность')\n",
        "\n",
        "    # Установка заголовка для графика\n",
        "    ax.set_title(f'Сравнение средней точности для метода {model}')\n",
        "\n",
        "    # Добавление сетки на график\n",
        "    ax.grid(True)\n",
        "\n",
        "# Добавление легенды для графиков\n",
        "axes[0].legend()\n",
        "axes[1].legend()\n",
        "\n",
        "# Автоматическое выравнивание расположения элементов на графике\n",
        "plt.tight_layout()\n",
        "\n",
        "# Отображение графика\n",
        "plt.show()"
      ],
      "metadata": {
        "id": "C1vEzkjCflLR",
        "colab": {
          "base_uri": "https://localhost:8080/",
          "height": 607
        },
        "outputId": "b7bfd879-1325-401a-8daf-5cd69f300671"
      },
      "execution_count": null,
      "outputs": [
        {
          "data": {
            "image/png": "[encoded data removed]",
            "text/plain": [
              "<Figure size 1200x600 with 2 Axes>"
            ]
          },
          "metadata": {},
          "output_type": "display_data"
        }
      ]
    }
  ],
  "metadata": {
    "colab": {
      "provenance": [],
      "include_colab_link": true
    },
    "kernelspec": {
      "display_name": "Python 3 (ipykernel)",
      "language": "python",
      "name": "python3"
    },
    "language_info": {
      "codemirror_mode": {
        "name": "ipython",
        "version": 3
      },
      "file_extension": ".py",
      "mimetype": "text/x-python",
      "name": "python",
      "nbconvert_exporter": "python",
      "pygments_lexer": "ipython3",
      "version": "3.11.2"
    }
  },
  "nbformat": 4,
  "nbformat_minor": 0
}