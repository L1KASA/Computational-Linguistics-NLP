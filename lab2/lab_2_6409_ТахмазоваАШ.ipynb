{
  "cells": [
    {
      "cell_type": "markdown",
      "metadata": {
        "id": "view-in-github",
        "colab_type": "text"
      },
      "source": [
        "<a href=\"https://colab.research.google.com/github/L1KASA/Computational-Linguistics-NLP/blob/main/lab2/lab_2_6409_%D0%A2%D0%B0%D1%85%D0%BC%D0%B0%D0%B7%D0%BE%D0%B2%D0%B0%D0%90%D0%A8.ipynb\" target=\"_parent\"><img src=\"https://colab.research.google.com/assets/colab-badge.svg\" alt=\"Open In Colab\"/></a>"
      ]
    },
    {
      "cell_type": "markdown",
      "metadata": {
        "id": "pW24dY5sVFVk"
      },
      "source": [
        "# Группа 6409, Тахмазова Анжелика"
      ]
    },
    {
      "cell_type": "markdown",
      "metadata": {
        "id": "dFt5kQ48_sCs"
      },
      "source": [
        "# Лабораторная работа №2\n",
        "\n",
        "**Требования:**\n",
        "* Python >= 3.X\n",
        "\n",
        "В качестве входных данных к лабораторной работе взят широко известный набор данных IMDB, содержащий 50K обзоров фильмов ([imdb-dataset-of-50k-movie-reviews](https://disk.yandex.ru/i/DDb0zuyUmts5QA)). Откликами являются значения двух классов positive и negative."
      ]
    },
    {
      "cell_type": "code",
      "execution_count": 1,
      "metadata": {
        "colab": {
          "base_uri": "https://localhost:8080/"
        },
        "id": "_qhn-6jW_sCv",
        "outputId": "62bec339-0fae-434e-cabd-9b850d8aceb8"
      },
      "outputs": [
        {
          "output_type": "stream",
          "name": "stderr",
          "text": [
            "[nltk_data] Downloading package stopwords to /root/nltk_data...\n",
            "[nltk_data]   Unzipping corpora/stopwords.zip.\n",
            "[nltk_data] Downloading package wordnet to /root/nltk_data...\n"
          ]
        },
        {
          "output_type": "stream",
          "name": "stdout",
          "text": [
            "Mounted at /content/drive/\n"
          ]
        }
      ],
      "source": [
        "import pandas as pd\n",
        "import nltk\n",
        "import numpy as np\n",
        "from nltk.corpus import stopwords\n",
        "from nltk.tokenize import word_tokenize\n",
        "from sklearn.feature_extraction.text import CountVectorizer\n",
        "from sklearn.model_selection import train_test_split\n",
        "import string\n",
        "import re\n",
        "from nltk.stem import WordNetLemmatizer\n",
        "from sklearn.feature_extraction.text import TfidfVectorizer\n",
        "from sklearn.model_selection import GridSearchCV\n",
        "from sklearn.svm import SVC\n",
        "from sklearn.model_selection import cross_val_score\n",
        "import matplotlib.pyplot as plt\n",
        "import inflect\n",
        "from google.colab import drive\n",
        "from sklearn.model_selection import KFold\n",
        "from sklearn.metrics import accuracy_score\n",
        "from sklearn.ensemble import RandomForestClassifier\n",
        "\n",
        "nltk.download('stopwords')\n",
        "nltk.download('gutenberg', quiet=True)\n",
        "nltk.download('punkt', quiet=True)\n",
        "nltk.download('wordnet')\n",
        "\n",
        "drive.mount('/content/drive/')"
      ]
    },
    {
      "cell_type": "code",
      "source": [
        "imdb_data = pd.read_csv('/content/drive/MyDrive/Dataset.csv')\n",
        "imdb_data.head()"
      ],
      "metadata": {
        "colab": {
          "base_uri": "https://localhost:8080/",
          "height": 206
        },
        "id": "Pf8hxdMLXnwg",
        "outputId": "c4b72771-80c4-49de-faa5-abf206bd9e4f"
      },
      "execution_count": 2,
      "outputs": [
        {
          "output_type": "execute_result",
          "data": {
            "text/plain": [
              "                                              review sentiment\n",
              "0  One of the other reviewers has mentioned that ...  positive\n",
              "1  A wonderful little production. <br /><br />The...  positive\n",
              "2  I thought this was a wonderful way to spend ti...  positive\n",
              "3  Basically there's a family where a little boy ...  negative\n",
              "4  Petter Mattei's \"Love in the Time of Money\" is...  positive"
            ],
            "text/html": [
              "\n",
              "  <div id=\"df-d90fdb1a-ca06-4dd6-86eb-dc1508668b60\" class=\"colab-df-container\">\n",
              "    <div>\n",
              "<style scoped>\n",
              "    .dataframe tbody tr th:only-of-type {\n",
              "        vertical-align: middle;\n",
              "    }\n",
              "\n",
              "    .dataframe tbody tr th {\n",
              "        vertical-align: top;\n",
              "    }\n",
              "\n",
              "    .dataframe thead th {\n",
              "        text-align: right;\n",
              "    }\n",
              "</style>\n",
              "<table border=\"1\" class=\"dataframe\">\n",
              "  <thead>\n",
              "    <tr style=\"text-align: right;\">\n",
              "      <th></th>\n",
              "      <th>review</th>\n",
              "      <th>sentiment</th>\n",
              "    </tr>\n",
              "  </thead>\n",
              "  <tbody>\n",
              "    <tr>\n",
              "      <th>0</th>\n",
              "      <td>One of the other reviewers has mentioned that ...</td>\n",
              "      <td>positive</td>\n",
              "    </tr>\n",
              "    <tr>\n",
              "      <th>1</th>\n",
              "      <td>A wonderful little production. &lt;br /&gt;&lt;br /&gt;The...</td>\n",
              "      <td>positive</td>\n",
              "    </tr>\n",
              "    <tr>\n",
              "      <th>2</th>\n",
              "      <td>I thought this was a wonderful way to spend ti...</td>\n",
              "      <td>positive</td>\n",
              "    </tr>\n",
              "    <tr>\n",
              "      <th>3</th>\n",
              "      <td>Basically there's a family where a little boy ...</td>\n",
              "      <td>negative</td>\n",
              "    </tr>\n",
              "    <tr>\n",
              "      <th>4</th>\n",
              "      <td>Petter Mattei's \"Love in the Time of Money\" is...</td>\n",
              "      <td>positive</td>\n",
              "    </tr>\n",
              "  </tbody>\n",
              "</table>\n",
              "</div>\n",
              "    <div class=\"colab-df-buttons\">\n",
              "\n",
              "  <div class=\"colab-df-container\">\n",
              "    <button class=\"colab-df-convert\" onclick=\"convertToInteractive('df-d90fdb1a-ca06-4dd6-86eb-dc1508668b60')\"\n",
              "            title=\"Convert this dataframe to an interactive table.\"\n",
              "            style=\"display:none;\">\n",
              "\n",
              "  <svg xmlns=\"http://www.w3.org/2000/svg\" height=\"24px\" viewBox=\"0 -960 960 960\">\n",
              "    <path d=\"M120-120v-720h720v720H120Zm60-500h600v-160H180v160Zm220 220h160v-160H400v160Zm0 220h160v-160H400v160ZM180-400h160v-160H180v160Zm440 0h160v-160H620v160ZM180-180h160v-160H180v160Zm440 0h160v-160H620v160Z\"/>\n",
              "  </svg>\n",
              "    </button>\n",
              "\n",
              "  <style>\n",
              "    .colab-df-container {\n",
              "      display:flex;\n",
              "      gap: 12px;\n",
              "    }\n",
              "\n",
              "    .colab-df-convert {\n",
              "      background-color: #E8F0FE;\n",
              "      border: none;\n",
              "      border-radius: 50%;\n",
              "      cursor: pointer;\n",
              "      display: none;\n",
              "      fill: #1967D2;\n",
              "      height: 32px;\n",
              "      padding: 0 0 0 0;\n",
              "      width: 32px;\n",
              "    }\n",
              "\n",
              "    .colab-df-convert:hover {\n",
              "      background-color: #E2EBFA;\n",
              "      box-shadow: 0px 1px 2px rgba(60, 64, 67, 0.3), 0px 1px 3px 1px rgba(60, 64, 67, 0.15);\n",
              "      fill: #174EA6;\n",
              "    }\n",
              "\n",
              "    .colab-df-buttons div {\n",
              "      margin-bottom: 4px;\n",
              "    }\n",
              "\n",
              "    [theme=dark] .colab-df-convert {\n",
              "      background-color: #3B4455;\n",
              "      fill: #D2E3FC;\n",
              "    }\n",
              "\n",
              "    [theme=dark] .colab-df-convert:hover {\n",
              "      background-color: #434B5C;\n",
              "      box-shadow: 0px 1px 3px 1px rgba(0, 0, 0, 0.15);\n",
              "      filter: drop-shadow(0px 1px 2px rgba(0, 0, 0, 0.3));\n",
              "      fill: #FFFFFF;\n",
              "    }\n",
              "  </style>\n",
              "\n",
              "    <script>\n",
              "      const buttonEl =\n",
              "        document.querySelector('#df-d90fdb1a-ca06-4dd6-86eb-dc1508668b60 button.colab-df-convert');\n",
              "      buttonEl.style.display =\n",
              "        google.colab.kernel.accessAllowed ? 'block' : 'none';\n",
              "\n",
              "      async function convertToInteractive(key) {\n",
              "        const element = document.querySelector('#df-d90fdb1a-ca06-4dd6-86eb-dc1508668b60');\n",
              "        const dataTable =\n",
              "          await google.colab.kernel.invokeFunction('convertToInteractive',\n",
              "                                                    [key], {});\n",
              "        if (!dataTable) return;\n",
              "\n",
              "        const docLinkHtml = 'Like what you see? Visit the ' +\n",
              "          '<a target=\"_blank\" href=https://colab.research.google.com/notebooks/data_table.ipynb>data table notebook</a>'\n",
              "          + ' to learn more about interactive tables.';\n",
              "        element.innerHTML = '';\n",
              "        dataTable['output_type'] = 'display_data';\n",
              "        await google.colab.output.renderOutput(dataTable, element);\n",
              "        const docLink = document.createElement('div');\n",
              "        docLink.innerHTML = docLinkHtml;\n",
              "        element.appendChild(docLink);\n",
              "      }\n",
              "    </script>\n",
              "  </div>\n",
              "\n",
              "\n",
              "<div id=\"df-9a90e292-1c04-43c7-9ef0-47f9f4ad3b38\">\n",
              "  <button class=\"colab-df-quickchart\" onclick=\"quickchart('df-9a90e292-1c04-43c7-9ef0-47f9f4ad3b38')\"\n",
              "            title=\"Suggest charts\"\n",
              "            style=\"display:none;\">\n",
              "\n",
              "<svg xmlns=\"http://www.w3.org/2000/svg\" height=\"24px\"viewBox=\"0 0 24 24\"\n",
              "     width=\"24px\">\n",
              "    <g>\n",
              "        <path d=\"M19 3H5c-1.1 0-2 .9-2 2v14c0 1.1.9 2 2 2h14c1.1 0 2-.9 2-2V5c0-1.1-.9-2-2-2zM9 17H7v-7h2v7zm4 0h-2V7h2v10zm4 0h-2v-4h2v4z\"/>\n",
              "    </g>\n",
              "</svg>\n",
              "  </button>\n",
              "\n",
              "<style>\n",
              "  .colab-df-quickchart {\n",
              "      --bg-color: #E8F0FE;\n",
              "      --fill-color: #1967D2;\n",
              "      --hover-bg-color: #E2EBFA;\n",
              "      --hover-fill-color: #174EA6;\n",
              "      --disabled-fill-color: #AAA;\n",
              "      --disabled-bg-color: #DDD;\n",
              "  }\n",
              "\n",
              "  [theme=dark] .colab-df-quickchart {\n",
              "      --bg-color: #3B4455;\n",
              "      --fill-color: #D2E3FC;\n",
              "      --hover-bg-color: #434B5C;\n",
              "      --hover-fill-color: #FFFFFF;\n",
              "      --disabled-bg-color: #3B4455;\n",
              "      --disabled-fill-color: #666;\n",
              "  }\n",
              "\n",
              "  .colab-df-quickchart {\n",
              "    background-color: var(--bg-color);\n",
              "    border: none;\n",
              "    border-radius: 50%;\n",
              "    cursor: pointer;\n",
              "    display: none;\n",
              "    fill: var(--fill-color);\n",
              "    height: 32px;\n",
              "    padding: 0;\n",
              "    width: 32px;\n",
              "  }\n",
              "\n",
              "  .colab-df-quickchart:hover {\n",
              "    background-color: var(--hover-bg-color);\n",
              "    box-shadow: 0 1px 2px rgba(60, 64, 67, 0.3), 0 1px 3px 1px rgba(60, 64, 67, 0.15);\n",
              "    fill: var(--button-hover-fill-color);\n",
              "  }\n",
              "\n",
              "  .colab-df-quickchart-complete:disabled,\n",
              "  .colab-df-quickchart-complete:disabled:hover {\n",
              "    background-color: var(--disabled-bg-color);\n",
              "    fill: var(--disabled-fill-color);\n",
              "    box-shadow: none;\n",
              "  }\n",
              "\n",
              "  .colab-df-spinner {\n",
              "    border: 2px solid var(--fill-color);\n",
              "    border-color: transparent;\n",
              "    border-bottom-color: var(--fill-color);\n",
              "    animation:\n",
              "      spin 1s steps(1) infinite;\n",
              "  }\n",
              "\n",
              "  @keyframes spin {\n",
              "    0% {\n",
              "      border-color: transparent;\n",
              "      border-bottom-color: var(--fill-color);\n",
              "      border-left-color: var(--fill-color);\n",
              "    }\n",
              "    20% {\n",
              "      border-color: transparent;\n",
              "      border-left-color: var(--fill-color);\n",
              "      border-top-color: var(--fill-color);\n",
              "    }\n",
              "    30% {\n",
              "      border-color: transparent;\n",
              "      border-left-color: var(--fill-color);\n",
              "      border-top-color: var(--fill-color);\n",
              "      border-right-color: var(--fill-color);\n",
              "    }\n",
              "    40% {\n",
              "      border-color: transparent;\n",
              "      border-right-color: var(--fill-color);\n",
              "      border-top-color: var(--fill-color);\n",
              "    }\n",
              "    60% {\n",
              "      border-color: transparent;\n",
              "      border-right-color: var(--fill-color);\n",
              "    }\n",
              "    80% {\n",
              "      border-color: transparent;\n",
              "      border-right-color: var(--fill-color);\n",
              "      border-bottom-color: var(--fill-color);\n",
              "    }\n",
              "    90% {\n",
              "      border-color: transparent;\n",
              "      border-bottom-color: var(--fill-color);\n",
              "    }\n",
              "  }\n",
              "</style>\n",
              "\n",
              "  <script>\n",
              "    async function quickchart(key) {\n",
              "      const quickchartButtonEl =\n",
              "        document.querySelector('#' + key + ' button');\n",
              "      quickchartButtonEl.disabled = true;  // To prevent multiple clicks.\n",
              "      quickchartButtonEl.classList.add('colab-df-spinner');\n",
              "      try {\n",
              "        const charts = await google.colab.kernel.invokeFunction(\n",
              "            'suggestCharts', [key], {});\n",
              "      } catch (error) {\n",
              "        console.error('Error during call to suggestCharts:', error);\n",
              "      }\n",
              "      quickchartButtonEl.classList.remove('colab-df-spinner');\n",
              "      quickchartButtonEl.classList.add('colab-df-quickchart-complete');\n",
              "    }\n",
              "    (() => {\n",
              "      let quickchartButtonEl =\n",
              "        document.querySelector('#df-9a90e292-1c04-43c7-9ef0-47f9f4ad3b38 button');\n",
              "      quickchartButtonEl.style.display =\n",
              "        google.colab.kernel.accessAllowed ? 'block' : 'none';\n",
              "    })();\n",
              "  </script>\n",
              "</div>\n",
              "    </div>\n",
              "  </div>\n"
            ],
            "application/vnd.google.colaboratory.intrinsic+json": {
              "type": "dataframe",
              "variable_name": "imdb_data",
              "summary": "{\n  \"name\": \"imdb_data\",\n  \"rows\": 50000,\n  \"fields\": [\n    {\n      \"column\": \"review\",\n      \"properties\": {\n        \"dtype\": \"string\",\n        \"num_unique_values\": 49582,\n        \"samples\": [\n          \"\\\"Soul Plane\\\" is a horrible attempt at comedy that only should appeal people with thick skulls, bloodshot eyes and furry pawns. <br /><br />The plot is not only incoherent but also non-existent, acting is mostly sub sub-par with a gang of highly moronic and dreadful characters thrown in for bad measure, jokes are often spotted miles ahead and almost never even a bit amusing. This movie lacks any structure and is full of racial stereotypes that must have seemed old even in the fifties, the only thing it really has going for it is some pretty ladies, but really, if you want that you can rent something from the \\\"Adult\\\" section. OK?<br /><br />I can hardly see anything here to recommend since you'll probably have a lot a better and productive time chasing rats with a sledgehammer or inventing waterproof teabags or whatever.<br /><br />2/10\",\n          \"Guest from the Future tells a fascinating story of time travel, friendship, battle of good and evil -- all with a small budget, child actors, and few special effects. Something for Spielberg and Lucas to learn from. ;) A sixth-grader Kolya \\\"Nick\\\" Gerasimov finds a time machine in the basement of a decrepit building and travels 100 years into the future. He discovers a near-perfect, utopian society where robots play guitars and write poetry, everyone is kind to each other and people enjoy everything technology has to offer. Alice is the daughter of a prominent scientist who invented a device called Mielophone that allows to read minds of humans and animals. The device can be put to both good and bad use, depending on whose hands it falls into. When two evil space pirates from Saturn who want to rule the universe attempt to steal Mielophone, it falls into the hands of 20th century school boy Nick. With the pirates hot on his tracks, he travels back to his time, followed by the pirates, and Alice. Chaos, confusion and funny situations follow as the luckless pirates try to blend in with the earthlings. Alice enrolls in the same school Nick goes to and demonstrates superhuman abilities in PE class. The catch is, Alice doesn't know what Nick looks like, while the pirates do. Also, the pirates are able to change their appearance and turn literally into anyone. (Hmm, I wonder if this is where James Cameron got the idea for Terminator...) Who gets to Nick -- and Mielophone -- first? Excellent plot, non-stop adventures, and great soundtrack. I wish Hollywood made kid movies like this one...\",\n          \"\\\"National Treasure\\\" (2004) is a thoroughly misguided hodge-podge of plot entanglements that borrow from nearly every cloak and dagger government conspiracy clich\\u00e9 that has ever been written. The film stars Nicholas Cage as Benjamin Franklin Gates (how precious is that, I ask you?); a seemingly normal fellow who, for no other reason than being of a lineage of like-minded misguided fortune hunters, decides to steal a 'national treasure' that has been hidden by the United States founding fathers. After a bit of subtext and background that plays laughably (unintentionally) like Indiana Jones meets The Patriot, the film degenerates into one misguided whimsy after another \\u0096 attempting to create a 'Stanley Goodspeed' regurgitation of Nicholas Cage and launch the whole convoluted mess forward with a series of high octane, but disconnected misadventures.<br /><br />The relevancy and logic to having George Washington and his motley crew of patriots burying a king's ransom someplace on native soil, and then, going through the meticulous plan of leaving clues scattered throughout U.S. currency art work, is something that director Jon Turteltaub never quite gets around to explaining. Couldn't Washington found better usage for such wealth during the start up of the country? Hence, we are left with a mystery built on top of an enigma that is already on shaky ground by the time Ben appoints himself the new custodian of this untold wealth. Ben's intentions are noble \\u0096 if confusing. He's set on protecting the treasure. For who and when?\\u0085your guess is as good as mine.<br /><br />But there are a few problems with Ben's crusade. First up, his friend, Ian Holmes (Sean Bean) decides that he can't wait for Ben to make up his mind about stealing the Declaration of Independence from the National Archives (oh, yeah \\u0096 brilliant idea!). Presumably, the back of that famous document holds the secret answer to the ultimate fortune. So Ian tries to kill Ben. The assassination attempt is, of course, unsuccessful, if overly melodramatic. It also affords Ben the opportunity to pick up, and pick on, the very sultry curator of the archives, Abigail Chase (Diane Kruger). She thinks Ben is clearly a nut \\u0096 at least at the beginning. But true to action/romance form, Abby's resolve melts quicker than you can say, \\\"is that the Hope Diamond?\\\" The film moves into full X-File-ish mode, as the FBI, mistakenly believing that Ben is behind the theft, retaliate in various benign ways that lead to a multi-layering of action sequences reminiscent of Mission Impossible meets The Fugitive. Honestly, don't those guys ever get 'intelligence' information that is correct? In the final analysis, \\\"National Treasure\\\" isn't great film making, so much as it's a patchwork rehash of tired old bits from other movies, woven together from scraps, the likes of which would make IL' Betsy Ross blush.<br /><br />The Buena Vista DVD delivers a far more generous treatment than this film is deserving of. The anamorphic widescreen picture exhibits a very smooth and finely detailed image with very rich colors, natural flesh tones, solid blacks and clean whites. The stylized image is also free of blemishes and digital enhancements. The audio is 5.1 and delivers a nice sonic boom to your side and rear speakers with intensity and realism. Extras include a host of promotional junket material that is rather deep and over the top in its explanation of how and why this film was made. If only, as an audience, we had had more clarification as to why Ben and co. were chasing after an illusive treasure, this might have been one good flick. Extras conclude with the theatrical trailer, audio commentary and deleted scenes. Not for the faint-hearted \\u0096 just the thick-headed.\"\n        ],\n        \"semantic_type\": \"\",\n        \"description\": \"\"\n      }\n    },\n    {\n      \"column\": \"sentiment\",\n      \"properties\": {\n        \"dtype\": \"category\",\n        \"num_unique_values\": 2,\n        \"samples\": [\n          \"negative\",\n          \"positive\"\n        ],\n        \"semantic_type\": \"\",\n        \"description\": \"\"\n      }\n    }\n  ]\n}"
            }
          },
          "metadata": {},
          "execution_count": 2
        }
      ]
    },
    {
      "cell_type": "code",
      "source": [
        "imdb_data.shape"
      ],
      "metadata": {
        "colab": {
          "base_uri": "https://localhost:8080/"
        },
        "id": "OiEWbyJrHUy4",
        "outputId": "b49ccf85-bef0-43a3-84ad-d0a1692eb7a7"
      },
      "execution_count": 3,
      "outputs": [
        {
          "output_type": "execute_result",
          "data": {
            "text/plain": [
              "(50000, 2)"
            ]
          },
          "metadata": {},
          "execution_count": 3
        }
      ]
    },
    {
      "cell_type": "markdown",
      "metadata": {
        "id": "kHFXYYsz_sCv"
      },
      "source": [
        "#### Шаг №1 Подготовка данных\n",
        "\n",
        "Обязательно предобработайте данные!\n",
        "\n"
      ]
    },
    {
      "cell_type": "code",
      "execution_count": 4,
      "metadata": {
        "colab": {
          "base_uri": "https://localhost:8080/"
        },
        "id": "FpxRKJ33_sCw",
        "outputId": "632164f8-898c-4315-a6ac-dc2f7bfcc271"
      },
      "outputs": [
        {
          "output_type": "stream",
          "name": "stdout",
          "text": [
            "since five turning wasting time enough\n"
          ]
        }
      ],
      "source": [
        "def preprocess_text(text):\n",
        "\n",
        "    # Инициализация лемматизатора\n",
        "    lemmatizer = WordNetLemmatizer()\n",
        "\n",
        "    # Инициализация регулярного выражения для удаления чисел\n",
        "    number_pattern = re.compile(r'\\b\\d+\\b')\n",
        "    p = inflect.engine()\n",
        "\n",
        "    # Приведение текста к нижнему регистру\n",
        "    text = text.lower()\n",
        "\n",
        "    # Удаление HTML-тегов\n",
        "    text = re.sub(r'<[^>]+>', ' ', text)\n",
        "\n",
        "    # Замена чисел на их текстовое представление\n",
        "    text = re.sub(r'\\b\\d+\\b', lambda x: p.number_to_words(x.group()), text)\n",
        "\n",
        "    # Удаление знаков препинания и специальных символов\n",
        "    text = re.sub(r'[\\W_]', ' ', text)\n",
        "\n",
        "    # Токенизация текста\n",
        "    tokens = word_tokenize(text)\n",
        "\n",
        "    # Удаление стоп-слов\n",
        "    stop_words = set(stopwords.words('english'))\n",
        "    tokens = [token for token in tokens if token not in stop_words]\n",
        "\n",
        "    # Лемматизация\n",
        "    tokens = [lemmatizer.lemmatize(token) for token in tokens]\n",
        "\n",
        "    return ' '.join(tokens)\n",
        "\n",
        "text = \"I've been out since 5, turning up. I'm wasting time, not enough!! :/\"\n",
        "\n",
        "preprocessed_text = preprocess_text(text)\n",
        "\n",
        "print(preprocessed_text)"
      ]
    },
    {
      "cell_type": "code",
      "execution_count": 5,
      "metadata": {
        "colab": {
          "base_uri": "https://localhost:8080/"
        },
        "id": "vuufN3-bfytJ",
        "outputId": "8817d326-24b4-4239-96d6-8bf3639b5a4d"
      },
      "outputs": [
        {
          "output_type": "execute_result",
          "data": {
            "text/plain": [
              "(10000, 2)"
            ]
          },
          "metadata": {},
          "execution_count": 5
        }
      ],
      "source": [
        "imdb_data = imdb_data[:10000]\n",
        "imdb_data.shape"
      ]
    },
    {
      "cell_type": "code",
      "source": [
        "# Применение предобработки к столбцу review\n",
        "imdb_data['review'] = imdb_data['review'].apply(preprocess_text)\n",
        "imdb_data['sentiment'] = imdb_data['sentiment'].apply(lambda x: 1 if x == 'positive' else 0)\n",
        "\n",
        "# Вывод первых пяти строк датасета\n",
        "print(imdb_data.head())"
      ],
      "metadata": {
        "colab": {
          "base_uri": "https://localhost:8080/"
        },
        "id": "2SfZUJiYX-ii",
        "outputId": "d6327435-6448-4c91-f49c-8fae0d701c88"
      },
      "execution_count": 6,
      "outputs": [
        {
          "output_type": "stream",
          "name": "stdout",
          "text": [
            "                                              review  sentiment\n",
            "0  one reviewer mentioned watching one oz episode...          1\n",
            "1  wonderful little production filming technique ...          1\n",
            "2  thought wonderful way spend time hot summer we...          1\n",
            "3  basically family little boy jake think zombie ...          0\n",
            "4  petter mattei love time money visually stunnin...          1\n"
          ]
        }
      ]
    },
    {
      "cell_type": "code",
      "execution_count": 7,
      "metadata": {
        "id": "GMhIBfZ9eYKz"
      },
      "outputs": [],
      "source": [
        "X = imdb_data['review']\n",
        "y = imdb_data['sentiment']\n",
        "\n",
        "# Разделение данных на обучающую и тестовую выборки (80% train, 20% test)\n",
        "X_train, X_test, y_train, y_test = train_test_split(X, y, test_size=0.2, random_state=42)"
      ]
    },
    {
      "cell_type": "code",
      "execution_count": 8,
      "metadata": {
        "colab": {
          "base_uri": "https://localhost:8080/"
        },
        "id": "C-ABNpV6hzcq",
        "outputId": "9c6c893f-c8d1-4f6f-f44a-e9a740861111"
      },
      "outputs": [
        {
          "output_type": "execute_result",
          "data": {
            "text/plain": [
              "9254    want see film starring stan laurel laurel hard...\n",
              "1561    watched snippet kid purchased blue underground...\n",
              "1670    love film totally rock nicolas cage look hot t...\n",
              "6087    despite critic ensue enjoyed immensely precise...\n",
              "6669    mistaking halloween broadcast orson welles cla...\n",
              "Name: review, dtype: object"
            ]
          },
          "metadata": {},
          "execution_count": 8
        }
      ],
      "source": [
        "X_train.head(5)"
      ]
    },
    {
      "cell_type": "code",
      "execution_count": 9,
      "metadata": {
        "colab": {
          "base_uri": "https://localhost:8080/"
        },
        "id": "IvuYs1a-iAqG",
        "outputId": "b30790c7-4d1c-4cef-ddff-929a2c7c23c7"
      },
      "outputs": [
        {
          "output_type": "execute_result",
          "data": {
            "text/plain": [
              "9254    1\n",
              "1561    1\n",
              "1670    1\n",
              "6087    1\n",
              "6669    1\n",
              "Name: sentiment, dtype: int64"
            ]
          },
          "metadata": {},
          "execution_count": 9
        }
      ],
      "source": [
        "y_train.head(5)"
      ]
    },
    {
      "cell_type": "markdown",
      "metadata": {
        "id": "QSyjaCK9_sCw"
      },
      "source": [
        "В качестве исследуемых способов представления текстов необходимо рассмотреть:\n",
        "\n",
        "#### 1.Компоненты вектора: частоты ([CountVectorizer](https://scikit-learn.org/stable/modules/generated/sklearn.feature_extraction.text.CountVectorizer.html))."
      ]
    },
    {
      "cell_type": "code",
      "execution_count": 10,
      "metadata": {
        "id": "71u0ZT2g_sCw"
      },
      "outputs": [],
      "source": [
        "vectorizer = CountVectorizer()\n",
        "x_CountVectorizer = vectorizer.fit_transform(X_train)"
      ]
    },
    {
      "cell_type": "markdown",
      "metadata": {
        "id": "I58NOdG7_sCw"
      },
      "source": [
        "#### 2. Компоненты вектора: оценки tf-idf для слова ([TfidfVectorizer](https://scikit-learn.org/stable/modules/generated/sklearn.feature_extraction.text.TfidfVectorizer.html))."
      ]
    },
    {
      "cell_type": "code",
      "execution_count": 11,
      "metadata": {
        "id": "eJUPHoTr_sCw"
      },
      "outputs": [],
      "source": [
        "vectorizer = TfidfVectorizer()\n",
        "x_TfidfVectorizer = vectorizer.fit_transform(X_train)"
      ]
    },
    {
      "cell_type": "markdown",
      "metadata": {
        "id": "Q6R79jC2_sCx"
      },
      "source": [
        "#### 3. Компоненты вектора: частоты N-грам."
      ]
    },
    {
      "cell_type": "code",
      "execution_count": 12,
      "metadata": {
        "id": "1buknPA5_sCx"
      },
      "outputs": [],
      "source": [
        "vectorizer = CountVectorizer(ngram_range=(2, 2))\n",
        "x_Ngram = vectorizer.fit_transform(X_train)"
      ]
    },
    {
      "cell_type": "markdown",
      "metadata": {
        "id": "cCZjV5Iz_sCx"
      },
      "source": [
        "### Шаг 2. Исследование моделей\n",
        "\n",
        "<table>\n",
        "\t\t<tr>\n",
        "\t\t\t<td></td>\n",
        "\t\t\t<td>$y = 1$</td>\n",
        "\t\t\t<td>$y = 0$</td>\n",
        "\t\t</tr>\n",
        "\t\t<tr>\n",
        "\t\t\t<td>$a(x) = 1$</td>\n",
        "\t\t\t<td>True Positive (TP)</td>\n",
        "\t\t\t<td>False Positive (FP)</td>\n",
        "\t\t</tr>\n",
        "    \t<tr>\n",
        "\t\t\t<td>$a(x) = 0$</td>\n",
        "\t\t\t<td>False Negative (FN)</td>\n",
        "\t\t\t<td>True Negative (TN)</td>\n",
        "\t\t</tr>\n",
        "</table>\n",
        "\n",
        "В зависимости от способа представления оценить качество классификации как долю правильных ответов на выборке ($\\operatorname{accuracy} = \\frac{\\operatorname{TP} + \\operatorname{TN}}{\\operatorname{TP} + \\operatorname{TN} + \\operatorname{FP} + \\operatorname{FN}}$). Используйте перекрестную проверку ([cross_val_score](https://scikit-learn.org/stable/modules/generated/sklearn.model_selection.cross_val_score.html), [KFold](https://scikit-learn.org/stable/modules/generated/sklearn.model_selection.KFold.html)).\n",
        "\n",
        "Для каждого из нижеперечисленных моделей необходимо определить оптимальные гиперпараметры ([GridSearchCV](https://scikit-learn.org/stable/modules/generated/sklearn.model_selection.GridSearchCV.html))\n",
        "\n"
      ]
    },
    {
      "cell_type": "code",
      "source": [
        "# Создаем списки для сохранения результатов\n",
        "svc_models = []  # Список для моделей SVC с оптимальными параметрами\n",
        "rfc_models = []  # Список для моделей RandomForestClassifier с оптимальными параметрами\n",
        "\n",
        "svc_accuracies = []\n",
        "rfc_accuracies = []\n",
        "\n",
        "X_data = [x_CountVectorizer, x_TfidfVectorizer, x_Ngram]"
      ],
      "metadata": {
        "id": "-Rcwqqk3yqlz"
      },
      "execution_count": 13,
      "outputs": []
    },
    {
      "cell_type": "markdown",
      "source": [
        "Качество классификации оцениваем для следующих моделей:\n",
        "\n",
        "#### 1. Машина опорных векторов ([SVC](https://scikit-learn.org/stable/modules/generated/sklearn.svm.SVC.html))."
      ],
      "metadata": {
        "id": "FbHqh11-ypzT"
      }
    },
    {
      "cell_type": "code",
      "source": [
        "# Определяем различные параметры для SVC\n",
        "#parameters_svc = [\n",
        "#    {'kernel': ['linear'], 'C': [1, 10]},  # Линейное ядро\n",
        "#    {'kernel': ['rbf'], 'C': [1, 10]}, #, 'gamma': [1, 10]},  # RBF ядро\n",
        "#    {'kernel': ['poly'], 'C': [1, 10]}, #, 'degree': [2, 5]}  # Полиномиальное ядро\n",
        "#]\n",
        "\n",
        "parameters_svc = {'kernel': ['linear', 'poly'], 'C': [1, 10]}\n",
        "\n",
        "for X in X_data:\n",
        "    # Инициализируем KFold для перекрестной проверки\n",
        "    kf = KFold(n_splits=5, shuffle=True, random_state=42)\n",
        "\n",
        "    # Инициализируем модель SVC\n",
        "    svc = SVC()\n",
        "\n",
        "    # Создаем объект GridSearchCV для подбора оптимальных параметров\n",
        "    clf_svc = GridSearchCV(svc, parameters_svc, scoring='accuracy', cv=kf, verbose=3)\n",
        "\n",
        "    # Обучаем модель на данных с помощью перекрестной проверки\n",
        "    clf_svc.fit(X, y_train)\n",
        "\n",
        "    # Сохраняем модель с оптимальными параметрами\n",
        "    svc_models.append(clf_svc.best_estimator_)\n",
        "\n",
        "    # Сохраняем точность модели SVC\n",
        "    svc_accuracies.append(clf_svc.best_score_)"
      ],
      "metadata": {
        "colab": {
          "base_uri": "https://localhost:8080/"
        },
        "id": "qmqPE0UKssu4",
        "outputId": "d87b1283-4400-4030-a69e-6cc482a60bcf"
      },
      "execution_count": 14,
      "outputs": [
        {
          "output_type": "stream",
          "name": "stdout",
          "text": [
            "Fitting 5 folds for each of 4 candidates, totalling 20 fits\n",
            "[CV 1/5] END ................C=1, kernel=linear;, score=0.839 total time=  22.3s\n",
            "[CV 2/5] END ................C=1, kernel=linear;, score=0.818 total time=  22.7s\n",
            "[CV 3/5] END ................C=1, kernel=linear;, score=0.844 total time=  26.7s\n",
            "[CV 4/5] END ................C=1, kernel=linear;, score=0.853 total time=  22.9s\n",
            "[CV 5/5] END ................C=1, kernel=linear;, score=0.844 total time=  24.0s\n",
            "[CV 1/5] END ..................C=1, kernel=poly;, score=0.691 total time=  48.9s\n",
            "[CV 2/5] END ..................C=1, kernel=poly;, score=0.642 total time=  47.2s\n",
            "[CV 3/5] END ..................C=1, kernel=poly;, score=0.641 total time=  47.9s\n",
            "[CV 4/5] END ..................C=1, kernel=poly;, score=0.618 total time=  47.6s\n",
            "[CV 5/5] END ..................C=1, kernel=poly;, score=0.614 total time=  47.0s\n",
            "[CV 1/5] END ...............C=10, kernel=linear;, score=0.839 total time=  22.6s\n",
            "[CV 2/5] END ...............C=10, kernel=linear;, score=0.818 total time=  23.5s\n",
            "[CV 3/5] END ...............C=10, kernel=linear;, score=0.844 total time=  24.1s\n",
            "[CV 4/5] END ...............C=10, kernel=linear;, score=0.853 total time=  22.9s\n",
            "[CV 5/5] END ...............C=10, kernel=linear;, score=0.844 total time=  24.2s\n",
            "[CV 1/5] END .................C=10, kernel=poly;, score=0.766 total time=  52.1s\n",
            "[CV 2/5] END .................C=10, kernel=poly;, score=0.727 total time=  52.0s\n",
            "[CV 3/5] END .................C=10, kernel=poly;, score=0.765 total time=  52.7s\n",
            "[CV 4/5] END .................C=10, kernel=poly;, score=0.754 total time=  46.2s\n",
            "[CV 5/5] END .................C=10, kernel=poly;, score=0.733 total time=  45.6s\n",
            "Fitting 5 folds for each of 4 candidates, totalling 20 fits\n",
            "[CV 1/5] END ................C=1, kernel=linear;, score=0.861 total time=  34.3s\n",
            "[CV 2/5] END ................C=1, kernel=linear;, score=0.854 total time=  33.7s\n",
            "[CV 3/5] END ................C=1, kernel=linear;, score=0.879 total time=  34.6s\n",
            "[CV 4/5] END ................C=1, kernel=linear;, score=0.884 total time=  34.3s\n",
            "[CV 5/5] END ................C=1, kernel=linear;, score=0.876 total time=  34.7s\n",
            "[CV 1/5] END ..................C=1, kernel=poly;, score=0.802 total time=  54.0s\n",
            "[CV 2/5] END ..................C=1, kernel=poly;, score=0.763 total time=  53.4s\n",
            "[CV 3/5] END ..................C=1, kernel=poly;, score=0.792 total time=  54.4s\n",
            "[CV 4/5] END ..................C=1, kernel=poly;, score=0.762 total time=  54.2s\n",
            "[CV 5/5] END ..................C=1, kernel=poly;, score=0.747 total time=  54.6s\n",
            "[CV 1/5] END ...............C=10, kernel=linear;, score=0.851 total time=  41.4s\n",
            "[CV 2/5] END ...............C=10, kernel=linear;, score=0.842 total time=  41.8s\n",
            "[CV 3/5] END ...............C=10, kernel=linear;, score=0.865 total time=  42.3s\n",
            "[CV 4/5] END ...............C=10, kernel=linear;, score=0.871 total time=  42.5s\n",
            "[CV 5/5] END ...............C=10, kernel=linear;, score=0.861 total time=  41.6s\n",
            "[CV 1/5] END .................C=10, kernel=poly;, score=0.809 total time=  55.1s\n",
            "[CV 2/5] END .................C=10, kernel=poly;, score=0.772 total time=  53.9s\n",
            "[CV 3/5] END .................C=10, kernel=poly;, score=0.804 total time=  53.5s\n",
            "[CV 4/5] END .................C=10, kernel=poly;, score=0.774 total time=  53.6s\n",
            "[CV 5/5] END .................C=10, kernel=poly;, score=0.764 total time=  53.3s\n",
            "Fitting 5 folds for each of 4 candidates, totalling 20 fits\n",
            "[CV 1/5] END ................C=1, kernel=linear;, score=0.807 total time= 1.0min\n",
            "[CV 2/5] END ................C=1, kernel=linear;, score=0.795 total time= 1.0min\n",
            "[CV 3/5] END ................C=1, kernel=linear;, score=0.839 total time= 1.0min\n",
            "[CV 4/5] END ................C=1, kernel=linear;, score=0.813 total time= 1.0min\n",
            "[CV 5/5] END ................C=1, kernel=linear;, score=0.812 total time= 1.0min\n",
            "[CV 1/5] END ..................C=1, kernel=poly;, score=0.491 total time= 1.0min\n",
            "[CV 2/5] END ..................C=1, kernel=poly;, score=0.501 total time= 1.0min\n",
            "[CV 3/5] END ..................C=1, kernel=poly;, score=0.509 total time= 1.1min\n",
            "[CV 4/5] END ..................C=1, kernel=poly;, score=0.501 total time= 1.1min\n",
            "[CV 5/5] END ..................C=1, kernel=poly;, score=0.491 total time= 1.0min\n",
            "[CV 1/5] END ...............C=10, kernel=linear;, score=0.807 total time= 1.0min\n",
            "[CV 2/5] END ...............C=10, kernel=linear;, score=0.795 total time= 1.0min\n",
            "[CV 3/5] END ...............C=10, kernel=linear;, score=0.839 total time= 1.0min\n",
            "[CV 4/5] END ...............C=10, kernel=linear;, score=0.813 total time= 1.0min\n",
            "[CV 5/5] END ...............C=10, kernel=linear;, score=0.812 total time= 1.0min\n",
            "[CV 1/5] END .................C=10, kernel=poly;, score=0.524 total time= 1.0min\n",
            "[CV 2/5] END .................C=10, kernel=poly;, score=0.501 total time= 1.1min\n",
            "[CV 3/5] END .................C=10, kernel=poly;, score=0.509 total time= 1.1min\n",
            "[CV 4/5] END .................C=10, kernel=poly;, score=0.501 total time= 1.0min\n",
            "[CV 5/5] END .................C=10, kernel=poly;, score=0.492 total time= 1.0min\n"
          ]
        }
      ]
    },
    {
      "cell_type": "markdown",
      "metadata": {
        "id": "aqK_esDx_sCy"
      },
      "source": [
        "#### 2. Случайный лес ([RandomForestClassifier](https://scikit-learn.org/stable/modules/generated/sklearn.ensemble.RandomForestClassifier.html))."
      ]
    },
    {
      "cell_type": "code",
      "source": [
        "# Определяем различные параметры для RandomForestClassifier\n",
        "parameters_rfc = {\n",
        "    'n_estimators': [10, 100, 200],  # Количество деревьев\n",
        "    'max_depth': [1, 10],  # Максимальная глубина деревьев\n",
        "}\n",
        "\n",
        "for X in X_data:\n",
        "    # Инициализируем KFold для перекрестной проверки\n",
        "    kf = KFold(n_splits=5, shuffle=True, random_state=42)\n",
        "\n",
        "    # Инициализируем модель RandomForestClassifier\n",
        "    rfc = RandomForestClassifier()\n",
        "\n",
        "    # Создаем объект GridSearchCV для подбора оптимальных параметров\n",
        "    clf_rfc = GridSearchCV(rfc, parameters_rfc, scoring='accuracy', cv=kf, verbose=3)\n",
        "\n",
        "    # Обучаем модель на данных с помощью перекрестной проверки\n",
        "    clf_rfc.fit(X, y_train)\n",
        "\n",
        "    # Сохраняем модель с оптимальными параметрами\n",
        "    rfc_models.append(clf_rfc.best_estimator_)\n",
        "\n",
        "    # Сохраняем точность модели SVC\n",
        "    rfc_accuracies.append(clf_svc.best_score_)"
      ],
      "metadata": {
        "colab": {
          "base_uri": "https://localhost:8080/"
        },
        "id": "BeUrqPorhv3w",
        "outputId": "e59e94db-3cba-4026-96b2-f5bd68a72326"
      },
      "execution_count": 15,
      "outputs": [
        {
          "output_type": "stream",
          "name": "stdout",
          "text": [
            "Fitting 5 folds for each of 6 candidates, totalling 30 fits\n",
            "[CV 1/5] END ......max_depth=1, n_estimators=10;, score=0.565 total time=   0.1s\n",
            "[CV 2/5] END ......max_depth=1, n_estimators=10;, score=0.631 total time=   0.1s\n",
            "[CV 3/5] END ......max_depth=1, n_estimators=10;, score=0.535 total time=   0.1s\n",
            "[CV 4/5] END ......max_depth=1, n_estimators=10;, score=0.562 total time=   0.1s\n",
            "[CV 5/5] END ......max_depth=1, n_estimators=10;, score=0.579 total time=   0.1s\n",
            "[CV 1/5] END .....max_depth=1, n_estimators=100;, score=0.752 total time=   0.4s\n",
            "[CV 2/5] END .....max_depth=1, n_estimators=100;, score=0.670 total time=   0.4s\n",
            "[CV 3/5] END .....max_depth=1, n_estimators=100;, score=0.736 total time=   0.4s\n",
            "[CV 4/5] END .....max_depth=1, n_estimators=100;, score=0.685 total time=   0.4s\n",
            "[CV 5/5] END .....max_depth=1, n_estimators=100;, score=0.645 total time=   0.4s\n",
            "[CV 1/5] END .....max_depth=1, n_estimators=200;, score=0.762 total time=   0.8s\n",
            "[CV 2/5] END .....max_depth=1, n_estimators=200;, score=0.665 total time=   0.8s\n",
            "[CV 3/5] END .....max_depth=1, n_estimators=200;, score=0.723 total time=   0.7s\n",
            "[CV 4/5] END .....max_depth=1, n_estimators=200;, score=0.674 total time=   0.7s\n",
            "[CV 5/5] END .....max_depth=1, n_estimators=200;, score=0.643 total time=   0.8s\n",
            "[CV 1/5] END .....max_depth=10, n_estimators=10;, score=0.720 total time=   0.3s\n",
            "[CV 2/5] END .....max_depth=10, n_estimators=10;, score=0.727 total time=   0.3s\n",
            "[CV 3/5] END .....max_depth=10, n_estimators=10;, score=0.732 total time=   0.3s\n",
            "[CV 4/5] END .....max_depth=10, n_estimators=10;, score=0.719 total time=   0.3s\n",
            "[CV 5/5] END .....max_depth=10, n_estimators=10;, score=0.703 total time=   0.3s\n",
            "[CV 1/5] END ....max_depth=10, n_estimators=100;, score=0.823 total time=   2.7s\n",
            "[CV 2/5] END ....max_depth=10, n_estimators=100;, score=0.818 total time=   1.7s\n",
            "[CV 3/5] END ....max_depth=10, n_estimators=100;, score=0.815 total time=   1.7s\n",
            "[CV 4/5] END ....max_depth=10, n_estimators=100;, score=0.827 total time=   1.6s\n",
            "[CV 5/5] END ....max_depth=10, n_estimators=100;, score=0.819 total time=   1.6s\n",
            "[CV 1/5] END ....max_depth=10, n_estimators=200;, score=0.828 total time=   3.2s\n",
            "[CV 2/5] END ....max_depth=10, n_estimators=200;, score=0.829 total time=   5.1s\n",
            "[CV 3/5] END ....max_depth=10, n_estimators=200;, score=0.840 total time=   3.2s\n",
            "[CV 4/5] END ....max_depth=10, n_estimators=200;, score=0.838 total time=   3.3s\n",
            "[CV 5/5] END ....max_depth=10, n_estimators=200;, score=0.825 total time=   3.6s\n",
            "Fitting 5 folds for each of 6 candidates, totalling 30 fits\n",
            "[CV 1/5] END ......max_depth=1, n_estimators=10;, score=0.566 total time=   0.1s\n",
            "[CV 2/5] END ......max_depth=1, n_estimators=10;, score=0.565 total time=   0.1s\n",
            "[CV 3/5] END ......max_depth=1, n_estimators=10;, score=0.578 total time=   0.1s\n",
            "[CV 4/5] END ......max_depth=1, n_estimators=10;, score=0.529 total time=   0.1s\n",
            "[CV 5/5] END ......max_depth=1, n_estimators=10;, score=0.536 total time=   0.1s\n",
            "[CV 1/5] END .....max_depth=1, n_estimators=100;, score=0.706 total time=   0.6s\n",
            "[CV 2/5] END .....max_depth=1, n_estimators=100;, score=0.714 total time=   0.5s\n",
            "[CV 3/5] END .....max_depth=1, n_estimators=100;, score=0.729 total time=   0.4s\n",
            "[CV 4/5] END .....max_depth=1, n_estimators=100;, score=0.693 total time=   0.4s\n",
            "[CV 5/5] END .....max_depth=1, n_estimators=100;, score=0.684 total time=   0.4s\n",
            "[CV 1/5] END .....max_depth=1, n_estimators=200;, score=0.781 total time=   0.8s\n",
            "[CV 2/5] END .....max_depth=1, n_estimators=200;, score=0.686 total time=   0.8s\n",
            "[CV 3/5] END .....max_depth=1, n_estimators=200;, score=0.741 total time=   0.8s\n",
            "[CV 4/5] END .....max_depth=1, n_estimators=200;, score=0.682 total time=   0.8s\n",
            "[CV 5/5] END .....max_depth=1, n_estimators=200;, score=0.654 total time=   0.8s\n",
            "[CV 1/5] END .....max_depth=10, n_estimators=10;, score=0.706 total time=   0.2s\n",
            "[CV 2/5] END .....max_depth=10, n_estimators=10;, score=0.724 total time=   0.2s\n",
            "[CV 3/5] END .....max_depth=10, n_estimators=10;, score=0.735 total time=   0.2s\n",
            "[CV 4/5] END .....max_depth=10, n_estimators=10;, score=0.693 total time=   0.2s\n",
            "[CV 5/5] END .....max_depth=10, n_estimators=10;, score=0.699 total time=   0.2s\n",
            "[CV 1/5] END ....max_depth=10, n_estimators=100;, score=0.826 total time=   1.8s\n",
            "[CV 2/5] END ....max_depth=10, n_estimators=100;, score=0.811 total time=   1.8s\n",
            "[CV 3/5] END ....max_depth=10, n_estimators=100;, score=0.816 total time=   2.8s\n",
            "[CV 4/5] END ....max_depth=10, n_estimators=100;, score=0.822 total time=   2.5s\n",
            "[CV 5/5] END ....max_depth=10, n_estimators=100;, score=0.826 total time=   1.8s\n",
            "[CV 1/5] END ....max_depth=10, n_estimators=200;, score=0.838 total time=   3.6s\n",
            "[CV 2/5] END ....max_depth=10, n_estimators=200;, score=0.834 total time=   3.6s\n",
            "[CV 3/5] END ....max_depth=10, n_estimators=200;, score=0.836 total time=   5.2s\n",
            "[CV 4/5] END ....max_depth=10, n_estimators=200;, score=0.831 total time=   3.6s\n",
            "[CV 5/5] END ....max_depth=10, n_estimators=200;, score=0.840 total time=   3.6s\n",
            "Fitting 5 folds for each of 6 candidates, totalling 30 fits\n",
            "[CV 1/5] END ......max_depth=1, n_estimators=10;, score=0.482 total time=   0.2s\n",
            "[CV 2/5] END ......max_depth=1, n_estimators=10;, score=0.503 total time=   0.3s\n",
            "[CV 3/5] END ......max_depth=1, n_estimators=10;, score=0.510 total time=   0.2s\n",
            "[CV 4/5] END ......max_depth=1, n_estimators=10;, score=0.509 total time=   0.2s\n",
            "[CV 5/5] END ......max_depth=1, n_estimators=10;, score=0.494 total time=   0.2s\n",
            "[CV 1/5] END .....max_depth=1, n_estimators=100;, score=0.589 total time=   1.8s\n",
            "[CV 2/5] END .....max_depth=1, n_estimators=100;, score=0.540 total time=   1.8s\n",
            "[CV 3/5] END .....max_depth=1, n_estimators=100;, score=0.591 total time=   1.1s\n",
            "[CV 4/5] END .....max_depth=1, n_estimators=100;, score=0.539 total time=   1.1s\n",
            "[CV 5/5] END .....max_depth=1, n_estimators=100;, score=0.512 total time=   1.1s\n",
            "[CV 1/5] END .....max_depth=1, n_estimators=200;, score=0.581 total time=   2.1s\n",
            "[CV 2/5] END .....max_depth=1, n_estimators=200;, score=0.532 total time=   2.1s\n",
            "[CV 3/5] END .....max_depth=1, n_estimators=200;, score=0.560 total time=   2.1s\n",
            "[CV 4/5] END .....max_depth=1, n_estimators=200;, score=0.529 total time=   3.0s\n",
            "[CV 5/5] END .....max_depth=1, n_estimators=200;, score=0.501 total time=   2.9s\n",
            "[CV 1/5] END .....max_depth=10, n_estimators=10;, score=0.596 total time=   0.6s\n",
            "[CV 2/5] END .....max_depth=10, n_estimators=10;, score=0.546 total time=   0.6s\n",
            "[CV 3/5] END .....max_depth=10, n_estimators=10;, score=0.582 total time=   0.6s\n",
            "[CV 4/5] END .....max_depth=10, n_estimators=10;, score=0.571 total time=   0.6s\n",
            "[CV 5/5] END .....max_depth=10, n_estimators=10;, score=0.571 total time=   0.6s\n",
            "[CV 1/5] END ....max_depth=10, n_estimators=100;, score=0.739 total time=   5.6s\n",
            "[CV 2/5] END ....max_depth=10, n_estimators=100;, score=0.698 total time=   7.7s\n",
            "[CV 3/5] END ....max_depth=10, n_estimators=100;, score=0.698 total time=   5.6s\n",
            "[CV 4/5] END ....max_depth=10, n_estimators=100;, score=0.702 total time=   7.7s\n",
            "[CV 5/5] END ....max_depth=10, n_estimators=100;, score=0.669 total time=   5.7s\n",
            "[CV 1/5] END ....max_depth=10, n_estimators=200;, score=0.774 total time=  13.4s\n",
            "[CV 2/5] END ....max_depth=10, n_estimators=200;, score=0.707 total time=  13.2s\n",
            "[CV 3/5] END ....max_depth=10, n_estimators=200;, score=0.731 total time=  13.2s\n",
            "[CV 4/5] END ....max_depth=10, n_estimators=200;, score=0.709 total time=  15.4s\n",
            "[CV 5/5] END ....max_depth=10, n_estimators=200;, score=0.671 total time=  13.3s\n"
          ]
        }
      ]
    },
    {
      "cell_type": "markdown",
      "metadata": {
        "id": "5iR5IdCL_sCy"
      },
      "source": [
        "### Шаг 3. Сравнение результатов\n",
        "\n",
        "Сравнить точность обученных моделей. Найти наиболее точную."
      ]
    },
    {
      "cell_type": "code",
      "source": [
        "# Модели и методы\n",
        "models = ['SVC', 'RandomForestClassifier']\n",
        "methods = ['CountVectorizer', 'TfidfVectorizer', 'Ngrams']\n",
        "\n",
        "# mean для каждой модели и метода\n",
        "mean_accuracies = {model: {method: [] for method in methods} for model in models}\n",
        "\n",
        "# Заполнение mean\n",
        "for i, model in enumerate(models):\n",
        "    for j, method in enumerate(methods):\n",
        "        # Определение точностей в зависимости от модели\n",
        "        if model == 'SVC':\n",
        "            accuracies = svc_accuracies\n",
        "        elif model == 'RandomForestClassifier':\n",
        "            accuracies = rfc_accuracies\n",
        "        # Получение средней точности для текущей модели и метода\n",
        "        mean_accuracies[model][method] = np.mean(accuracies)\n",
        "\n",
        "# Вывод результатов\n",
        "for model in models:\n",
        "    print(f\"Модель: {model}\")\n",
        "    for method, accuracy in mean_accuracies[model].items():\n",
        "        print(f\"{method}: {accuracy}\")\n",
        "    print()"
      ],
      "metadata": {
        "colab": {
          "base_uri": "https://localhost:8080/"
        },
        "id": "Ycy_t0tDiCbo",
        "outputId": "5640998c-56cd-413a-c6fb-097abc3b6eb9"
      },
      "execution_count": 16,
      "outputs": [
        {
          "output_type": "stream",
          "name": "stdout",
          "text": [
            "Модель: SVC\n",
            "CountVectorizer: 0.8412083333333333\n",
            "TfidfVectorizer: 0.8412083333333333\n",
            "Ngrams: 0.8412083333333333\n",
            "\n",
            "Модель: RandomForestClassifier\n",
            "CountVectorizer: 0.8133750000000001\n",
            "TfidfVectorizer: 0.8133750000000001\n",
            "Ngrams: 0.8133750000000001\n",
            "\n"
          ]
        }
      ]
    },
    {
      "cell_type": "code",
      "source": [
        "plt.figure(figsize=(10, 5))\n",
        "\n",
        "# Для каждой модели и её точностей в средних значениях\n",
        "for model, accuracies in mean_accuracies.items():\n",
        "    # Создание столбчатой диаграммы\n",
        "    plt.bar(model, accuracies.values(), label=model)\n",
        "\n",
        "plt.xlabel('Метод векторизации')\n",
        "plt.ylabel('Средняя точность')\n",
        "plt.title('Сравнение средней точности для различных моделей и методов векторизации')\n",
        "plt.legend()\n",
        "plt.grid(True)\n",
        "\n",
        "plt.tight_layout()\n",
        "plt.show()"
      ],
      "metadata": {
        "colab": {
          "base_uri": "https://localhost:8080/",
          "height": 507
        },
        "id": "C1vEzkjCflLR",
        "outputId": "42b4fdea-5101-4857-deae-5c08b36c26d0"
      },
      "execution_count": 17,
      "outputs": [
        {
          "output_type": "display_data",
          "data": {
            "text/plain": [
              "<Figure size 1000x500 with 1 Axes>"
            ],
            "image/png": "[encoded data removed]"
          },
          "metadata": {}
        }
      ]
    }
  ],
  "metadata": {
    "colab": {
      "provenance": [],
      "include_colab_link": true
    },
    "kernelspec": {
      "display_name": "Python 3 (ipykernel)",
      "language": "python",
      "name": "python3"
    },
    "language_info": {
      "codemirror_mode": {
        "name": "ipython",
        "version": 3
      },
      "file_extension": ".py",
      "mimetype": "text/x-python",
      "name": "python",
      "nbconvert_exporter": "python",
      "pygments_lexer": "ipython3",
      "version": "3.11.2"
    }
  },
  "nbformat": 4,
  "nbformat_minor": 0
}